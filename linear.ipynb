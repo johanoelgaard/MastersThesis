{
 "cells": [
  {
   "cell_type": "code",
   "execution_count": 1,
   "id": "50d53075",
   "metadata": {},
   "outputs": [],
   "source": [
    "import pandas as pd\n",
    "import numpy as np\n",
    "from functions import *\n",
    "from models import *\n",
    "from sklearn.linear_model import LassoCV\n",
    "from sklearn.preprocessing import StandardScaler\n",
    "import matplotlib.pyplot as plt\n",
    "from sklearn.compose import ColumnTransformer\n",
    "import warnings\n",
    "from sklearn.exceptions import ConvergenceWarning\n",
    "# set default plotting parameters\n",
    "plt.rcParams.update({'font.size': 12, 'figure.figsize': (10, 4), 'figure.dpi': 300})\n",
    "\n",
    "%load_ext autoreload\n",
    "%autoreload 2"
   ]
  },
  {
   "cell_type": "markdown",
   "id": "8b0245e5",
   "metadata": {},
   "source": [
    "# Load and prepare the data"
   ]
  },
  {
   "cell_type": "code",
   "execution_count": 2,
   "id": "beab3df5",
   "metadata": {},
   "outputs": [],
   "source": [
    "# read data\n",
    "df = pd.read_csv('data/data.csv')"
   ]
  },
  {
   "cell_type": "code",
   "execution_count": 3,
   "id": "8f2c5a10",
   "metadata": {},
   "outputs": [],
   "source": [
    "# --- Prepare dataframe ---\n",
    "feature_cols = [col for col in df.columns if col not in ['timestamp', 'ticker', 'target']]\n",
    "df_norm = df.copy(deep=True)\n",
    "df_norm = df_norm.dropna(subset=feature_cols)  # should not drop any rows\n",
    "df_norm['timestamp'] = pd.to_datetime(df_norm['timestamp'])\n",
    "\n",
    "# drop data from 2025\n",
    "df_norm = df_norm[df_norm['timestamp'] < '2025-01-01']\n",
    "\n",
    "# Identify dummy vs. numeric columns\n",
    "cat_cols = [c for c in feature_cols if c.startswith('NACE_') or c.startswith('month_')] + ['divi','divo','sin']\n",
    "numeric_cols = [c for c in feature_cols if c not in cat_cols]\n",
    "feature_cols = numeric_cols + cat_cols\n",
    "\n",
    "\n",
    "# Prepare containers\n",
    "periods = {\n",
    "    '20' : '2020-01-01', \n",
    "    '21' : '2021-01-01', \n",
    "    '22' : '2022-01-01',  \n",
    "    '23': '2023-01-01'\n",
    "}\n",
    "\n",
    "X_train, X_test = {}, {}\n",
    "y_train, y_test = {}, {}\n",
    "preprocessors = {}\n",
    "\n",
    "y_values = df_norm['target'].values.astype('float32')\n",
    "\n",
    "for name, period in periods.items():\n",
    "    period = pd.to_datetime(period)\n",
    "    tr_mask = df_norm['timestamp']- pd.DateOffset(years=1) < period\n",
    "    te_mask = (df_norm['timestamp'] - pd.DateOffset(years=1) >= period) & \\\n",
    "              (df_norm['timestamp'] - pd.DateOffset(years=2) < period)\n",
    "\n",
    "    # extract feature DataFrames\n",
    "    X_tr_df = df_norm.loc[tr_mask, feature_cols]\n",
    "    X_te_df = df_norm.loc[te_mask, feature_cols]\n",
    "    y_tr = y_values[tr_mask]\n",
    "    y_te = y_values[te_mask]\n",
    "\n",
    "    # compute winsorization bounds on train\n",
    "    lower = X_tr_df[numeric_cols].quantile(0.01)\n",
    "    upper = X_tr_df[numeric_cols].quantile(0.99)\n",
    "\n",
    "    # apply clipping to train, val, test\n",
    "    X_tr_df[numeric_cols] = X_tr_df[numeric_cols].clip(lower=lower, upper=upper, axis=1)\n",
    "    X_te_df[numeric_cols] = X_te_df[numeric_cols].clip(lower=lower, upper=upper, axis=1)\n",
    "\n",
    "    # fit scaler only on training set\n",
    "    preprocessor = ColumnTransformer([\n",
    "        ('num', StandardScaler(), numeric_cols),\n",
    "        ('cat', 'passthrough', cat_cols)\n",
    "    ])\n",
    "    preprocessor.fit(X_tr_df)\n",
    "    preprocessors[name] = preprocessor\n",
    "\n",
    "    # ttransform splits\n",
    "    X_train[name] = preprocessor.transform(X_tr_df).astype('float32')\n",
    "    X_test[name]  = preprocessor.transform(X_te_df).astype('float32')\n",
    "\n",
    "    # targets\n",
    "    y_train[name] = y_tr\n",
    "    y_test[name]  = y_te"
   ]
  },
  {
   "cell_type": "markdown",
   "id": "52c97fe4",
   "metadata": {},
   "source": [
    "# OLS"
   ]
  },
  {
   "cell_type": "code",
   "execution_count": 4,
   "id": "57ab2883",
   "metadata": {},
   "outputs": [
    {
     "name": "stdout",
     "output_type": "stream",
     "text": [
      "Estimating OLS for 20...\n",
      "Estimating OLS for 21...\n",
      "Estimating OLS for 22...\n",
      "Estimating OLS for 23...\n"
     ]
    },
    {
     "name": "stderr",
     "output_type": "stream",
     "text": [
      "/Users/johan/Documents/04 Uni/10 Thesis/git/MastersThesis/functions.py:192: RuntimeWarning: invalid value encountered in sqrt\n",
      "  se = np.sqrt(np.diag(cov)).reshape(-1, 1)\n"
     ]
    }
   ],
   "source": [
    "# linear model\n",
    "# estimate the parameters\n",
    "ols_est = {}\n",
    "ols_pred_train = {}\n",
    "ols_pred_test = {}\n",
    "\n",
    "for year in periods.keys():\n",
    "    print(f\"Estimating OLS for {year}...\")\n",
    "    x_tr = X_train[year]\n",
    "    y_tr = y_train[year]\n",
    "    x_te = X_test[year]\n",
    "    y_te = y_test[year]\n",
    "\n",
    "\n",
    "    # estimate the parameters\n",
    "    ols_est[year] = estimate(y_tr, x_tr)\n",
    "    ols_pred_train[year] = ols_est[year]['b_hat'] @ x_tr.T\n",
    "    ols_pred_test[year] = ols_est[year]['b_hat'] @ x_te.T"
   ]
  },
  {
   "cell_type": "markdown",
   "id": "b0b7058e",
   "metadata": {},
   "source": [
    "# Lasso"
   ]
  },
  {
   "cell_type": "code",
   "execution_count": 5,
   "id": "22645ef9",
   "metadata": {},
   "outputs": [
    {
     "name": "stdout",
     "output_type": "stream",
     "text": [
      "Estimating Lasso for 20...\n",
      "Estimating Lasso for 21...\n",
      "Estimating Lasso for 22...\n",
      "Estimating Lasso for 23...\n"
     ]
    }
   ],
   "source": [
    "# linear model\n",
    "# create a grid using numpy.geomspace\n",
    "penalty_grid = np.geomspace(1e-7, 100, num = 1000)\n",
    "\n",
    "lasso_est = {}\n",
    "lasso_pred_train = {}\n",
    "lasso_pred_test = {}\n",
    "\n",
    "\n",
    "with warnings.catch_warnings():\n",
    "    warnings.simplefilter(\"ignore\", ConvergenceWarning)\n",
    "    for year in periods.keys():\n",
    "        print(f\"Estimating Lasso for {year}...\")\n",
    "        x_tr = X_train[year]\n",
    "        y_tr = y_train[year]\n",
    "        x_te = X_test[year]\n",
    "        y_te = y_test[year]\n",
    "\n",
    "        # estimate the model using LassoCV\n",
    "        fit_CV = LassoCV(cv=5, alphas=penalty_grid, max_iter=1000, eps=1e-3, n_jobs=-1).fit(x_tr,y_tr)\n",
    "        lasso_pred_train[year] = fit_CV.predict(x_tr)\n",
    "        lasso_pred_test[year] = fit_CV.predict(x_te)"
   ]
  }
 ],
 "metadata": {
  "kernelspec": {
   "display_name": "base",
   "language": "python",
   "name": "python3"
  },
  "language_info": {
   "codemirror_mode": {
    "name": "ipython",
    "version": 3
   },
   "file_extension": ".py",
   "mimetype": "text/x-python",
   "name": "python",
   "nbconvert_exporter": "python",
   "pygments_lexer": "ipython3",
   "version": "3.11.8"
  }
 },
 "nbformat": 4,
 "nbformat_minor": 5
}
