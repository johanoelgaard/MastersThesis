{
 "cells": [
  {
   "cell_type": "code",
   "execution_count": 1,
   "id": "db0bafe0",
   "metadata": {},
   "outputs": [],
   "source": [
    "import pandas as pd\n",
    "import numpy as np\n",
    "from functions import *\n",
    "import re\n",
    "\n",
    "%load_ext autoreload\n",
    "%autoreload 2\n",
    "\n",
    "pd.set_option('future.no_silent_downcasting', True)"
   ]
  },
  {
   "cell_type": "code",
   "execution_count": 2,
   "id": "ba903c12",
   "metadata": {},
   "outputs": [],
   "source": [
    "# set paths to data\n",
    "path = '/Users/johan/Library/CloudStorage/GoogleDrive-johan.oelgaard@gmail.com/My Drive/04 Økonomi/10 Thesis/Data'\n",
    "\n",
    "# read daily market data from eikon\n",
    "daily = 'eikon_daily.xlsx'\n",
    "eikon_dfs = pd.read_excel(path + '/' + daily, sheet_name=None)\n",
    "eikon_keys = eikon_dfs.keys()"
   ]
  },
  {
   "cell_type": "code",
   "execution_count": 3,
   "id": "0a40ee1c",
   "metadata": {},
   "outputs": [
    {
     "name": "stderr",
     "output_type": "stream",
     "text": [
      "/opt/anaconda3/lib/python3.11/site-packages/pandas/core/indexes/base.py:7588: FutureWarning: Dtype inference on a pandas object (Series, Index, ExtensionArray) is deprecated. The Index constructor will keep the original dtype in the future. Call `infer_objects` on the result to get the old behavior.\n",
      "  return Index(sequences[0], name=names)\n",
      "/var/folders/yw/jsw5n53s1cb1s2q6tt0msrm00000gn/T/ipykernel_6322/2510852289.py:31: FutureWarning: The previous implementation of stack is deprecated and will be removed in a future version of pandas. See the What's New notes for pandas 2.1.0 for details. Specify future_stack=True to adopt the new implementation and silence this warning.\n",
      "  trade_values_df = trade_values_df.stack(level=0).reset_index()\n"
     ]
    }
   ],
   "source": [
    "# load trade data\n",
    "trade_values_df = eikon_dfs['Trade Values'].iloc[:,1:]\n",
    "# set up multi-index for the columns\n",
    "trade_values_df.columns = pd.MultiIndex.from_arrays(trade_values_df.iloc[:2].values)\n",
    "# drop the first two rows as they are now headers\n",
    "trade_values_df = trade_values_df.iloc[2:].reset_index(drop=True)\n",
    "# set the first column as index\n",
    "trade_values_df.set_index(trade_values_df.columns[0], inplace=True)\n",
    "trade_values_df.index.name = \"timestamp\"\n",
    "trade_values_df = trade_values_df.sort_index(axis=1, level=0)\n",
    "# keep only trade close values\n",
    "trade_values_df = trade_values_df.loc[:, (slice(None), 'Trade Close')]\n",
    "# set 0 values to NaN\n",
    "trade_values_df = trade_values_df.replace(0, np.nan)\n",
    "\n",
    "# backward fill the data for each ticker\n",
    "idx = pd.IndexSlice\n",
    "\n",
    "# loop over the tickers that are actually in the df\n",
    "for ticker in trade_values_df.columns.get_level_values(0).unique():\n",
    "    # extract the sub-dataframe for this ticker using .loc with IndexSlice\n",
    "    subdf = trade_values_df.loc[:, idx[ticker, :]]\n",
    "    \n",
    "    # find the index range where the ticker has any valid data\n",
    "    valid_idx = subdf.dropna(how='all').index\n",
    "\n",
    "    # use backward fill in the date range\n",
    "    trade_values_df.loc[valid_idx.max():valid_idx.min(), idx[ticker, :]] = trade_values_df.loc[valid_idx.max():valid_idx.min(), idx[ticker, :]].bfill()\n",
    "\n",
    "# stack first level of columns to rows\n",
    "trade_values_df = trade_values_df.stack(level=0).reset_index()\n",
    "# rename columns\n",
    "trade_values_df.columns = ['timestamp', 'Ticker', 'Trade Close']\n",
    "# set first column as index\n",
    "trade_values_df.set_index('timestamp', inplace=True)\n",
    "\n",
    "# calculate the daily returns\n",
    "trade_values_df = trade_values_df.sort_values(by=['Ticker', 'timestamp'], ascending=[True, True])\n",
    "trade_values_df['stkre'] = trade_values_df.groupby('Ticker')['Trade Close'].pct_change()\n"
   ]
  },
  {
   "cell_type": "code",
   "execution_count": 4,
   "id": "355cf427",
   "metadata": {},
   "outputs": [
    {
     "name": "stderr",
     "output_type": "stream",
     "text": [
      "/opt/anaconda3/lib/python3.11/site-packages/pandas/core/indexes/base.py:7588: FutureWarning: Dtype inference on a pandas object (Series, Index, ExtensionArray) is deprecated. The Index constructor will keep the original dtype in the future. Call `infer_objects` on the result to get the old behavior.\n",
      "  return Index(sequences[0], name=names)\n"
     ]
    }
   ],
   "source": [
    "# load index data\n",
    "omxcpi = eikon_dfs['OMXCPI'].iloc[:,1:]\n",
    "# set first row as header\n",
    "omxcpi.columns = omxcpi.iloc[0]\n",
    "# drop the first row as it is now header\n",
    "omxcpi = omxcpi.iloc[1:].reset_index(drop=True)\n",
    "# set the first column as index\n",
    "omxcpi.set_index(omxcpi.columns[0], inplace=True)\n",
    "omxcpi = omxcpi.sort_index(axis=1)\n",
    "# keep only closing values\n",
    "omxcpi = omxcpi.loc[:,'Trade Close']\n",
    "# convert to dataframe\n",
    "omxcpi = pd.DataFrame(omxcpi)\n",
    "# rename columns\n",
    "omxcpi.columns = ['OMXCPI']\n",
    "\n",
    "omxcpi = omxcpi.sort_index(ascending=True)\n",
    "omxcpi['mktre'] = omxcpi['OMXCPI'].pct_change()"
   ]
  },
  {
   "cell_type": "code",
   "execution_count": 5,
   "id": "e78fb87d",
   "metadata": {},
   "outputs": [
    {
     "name": "stderr",
     "output_type": "stream",
     "text": [
      "/var/folders/yw/jsw5n53s1cb1s2q6tt0msrm00000gn/T/ipykernel_6322/3090447612.py:6: DeprecationWarning: DataFrameGroupBy.apply operated on the grouping columns. This behavior is deprecated, and in a future version of pandas the grouping columns will be excluded from the operation. Either pass `include_groups=False` to exclude the groupings or explicitly select the grouping columns after groupby to silence this warning.\n",
      "  beta= beta.groupby('Ticker').apply(rolling_beta)\n"
     ]
    }
   ],
   "source": [
    "# calculate the rolling beta\n",
    "# join the two dataframes on index\n",
    "beta = trade_values_df.join(omxcpi, how='left')\n",
    "# drop Trade Close and OMXCPI columns and calculate beta\n",
    "beta = beta.drop(columns=['Trade Close', 'OMXCPI']).dropna()\n",
    "beta= beta.groupby('Ticker').apply(rolling_beta)\n",
    "\n",
    "# create df\n",
    "beta = beta.reset_index()\n",
    "beta.columns = ['ticker', 'timestamp', 'beta']\n",
    "# set the index to timestamp\n",
    "beta.set_index('timestamp', inplace=True)\n",
    "\n",
    "# save the beta to csv\n",
    "beta.to_csv('data/beta.csv')"
   ]
  }
 ],
 "metadata": {
  "kernelspec": {
   "display_name": "base",
   "language": "python",
   "name": "python3"
  },
  "language_info": {
   "codemirror_mode": {
    "name": "ipython",
    "version": 3
   },
   "file_extension": ".py",
   "mimetype": "text/x-python",
   "name": "python",
   "nbconvert_exporter": "python",
   "pygments_lexer": "ipython3",
   "version": "3.11.8"
  }
 },
 "nbformat": 4,
 "nbformat_minor": 5
}
