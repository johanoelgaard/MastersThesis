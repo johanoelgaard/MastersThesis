{
 "cells": [
  {
   "cell_type": "code",
   "execution_count": 1,
   "metadata": {},
   "outputs": [],
   "source": [
    "import pandas as pd\n",
    "import numpy as np\n",
    "from functions import *\n",
    "import re\n",
    "\n",
    "%load_ext autoreload\n",
    "%autoreload 2"
   ]
  },
  {
   "cell_type": "code",
   "execution_count": 2,
   "metadata": {},
   "outputs": [
    {
     "name": "stdout",
     "output_type": "stream",
     "text": [
      "dict_keys(['OMX Copenhagen_PI | Leavers and', 'Unique Stocks', 'OMXCPI', 'NACE', 'Outstanding Shares', 'Trade Values', 'PE Ratio', 'Turnover', 'Ask', 'Bid'])\n"
     ]
    }
   ],
   "source": [
    "# set paths to data\n",
    "path_market = '/Users/johan/Library/CloudStorage/GoogleDrive-johan.oelgaard@gmail.com/My Drive/04 Økonomi/10 Thesis/Data'\n",
    "# path_finacials = '/Users/johan/Library/CloudStorage/GoogleDrive-johan.oelgaard@gmail.com/My Drive/04 Økonomi/10 Thesis/Data/Financials'\n",
    "\n",
    "# read monthly market data from eikon\n",
    "monthly = 'eikon_monthly.xlsx'\n",
    "# daily = 'eikon_daily.xlsx'\n",
    "oxford = 'oxford_economics.xlsx'\n",
    "eikon_dfs = pd.read_excel(path_market + '/' + monthly, sheet_name=None)\n",
    "eikon_keys = eikon_dfs.keys()\n",
    "oxford_df = pd.read_excel(path_market + '/' + oxford)\n",
    "\n",
    "print(eikon_keys)"
   ]
  },
  {
   "cell_type": "markdown",
   "metadata": {},
   "source": [
    "### Clean trade data"
   ]
  },
  {
   "cell_type": "code",
   "execution_count": 3,
   "metadata": {},
   "outputs": [
    {
     "name": "stderr",
     "output_type": "stream",
     "text": [
      "/opt/anaconda3/lib/python3.11/site-packages/pandas/core/indexes/base.py:7588: FutureWarning: Dtype inference on a pandas object (Series, Index, ExtensionArray) is deprecated. The Index constructor will keep the original dtype in the future. Call `infer_objects` on the result to get the old behavior.\n",
      "  return Index(sequences[0], name=names)\n"
     ]
    }
   ],
   "source": [
    "# clean trade data\n",
    "trade_values_df = eikon_dfs['Trade Values'].iloc[:,1:]\n",
    "\n",
    "# set up multi-index for the columns\n",
    "trade_values_df.columns = pd.MultiIndex.from_arrays(trade_values_df.iloc[:2].values)\n",
    "\n",
    "# drop the first two rows as they are now headers\n",
    "trade_values_df = trade_values_df.iloc[2:].reset_index(drop=True)\n",
    "\n",
    "# set the first column as index\n",
    "trade_values_df.set_index(trade_values_df.columns[0], inplace=True)\n",
    "trade_values_df.index.name = \"Timestamp\"\n",
    "trade_values_df = trade_values_df.sort_index(axis=1, level=0)"
   ]
  },
  {
   "cell_type": "code",
   "execution_count": 4,
   "metadata": {},
   "outputs": [],
   "source": [
    "# required columns:\n",
    "required_columns = {\"Trade Close\", \"Trade High\", \"Trade Low\", \"Trade Open\", \"Trade Volume\"}\n",
    "\n",
    "# extract all tickers from the first level of the columns\n",
    "tickers = trade_values_df.columns.levels[0]\n",
    "\n",
    "valid_tickers = []\n",
    "\n",
    "for ticker in tickers:\n",
    "    # the sub-columns (second-level) for this particular ticker\n",
    "    subcols = set(trade_values_df[ticker].columns)\n",
    "    \n",
    "    # check if all required columns are present\n",
    "    if required_columns.issubset(subcols):\n",
    "        \n",
    "        # now check how many valid rows the ticker has.\n",
    "        subdf = trade_values_df[ticker][list(required_columns)]\n",
    "        \n",
    "        # count rows that are non-null in *all* required columns:\n",
    "        non_null_rows = subdf.dropna(how=\"any\").shape[0]\n",
    "        \n",
    "        if non_null_rows >= 3: # at least 3 months w. data (removes ~80 tickers)\n",
    "            valid_tickers.append(ticker)\n",
    "\n",
    "# filter the original df to keep only valid tickers and all their second-level columns:\n",
    "trade_df = trade_values_df.loc[:, (valid_tickers, slice(None))]\n",
    "\n",
    "# # display or continue working with the cleaned df\n",
    "# display(trade_df)"
   ]
  },
  {
   "cell_type": "markdown",
   "metadata": {},
   "source": [
    "### Extract valid stocks and informtion on them"
   ]
  },
  {
   "cell_type": "code",
   "execution_count": 5,
   "metadata": {},
   "outputs": [
    {
     "name": "stderr",
     "output_type": "stream",
     "text": [
      "/var/folders/yw/jsw5n53s1cb1s2q6tt0msrm00000gn/T/ipykernel_33646/3958463826.py:4: SettingWithCopyWarning: \n",
      "A value is trying to be set on a copy of a slice from a DataFrame\n",
      "\n",
      "See the caveats in the documentation: https://pandas.pydata.org/pandas-docs/stable/user_guide/indexing.html#returning-a-view-versus-a-copy\n",
      "  stocks_df.rename(columns={'Code': 'Ticker'}, inplace=True)\n"
     ]
    }
   ],
   "source": [
    "# clean stock names\n",
    "stocks_df = eikon_dfs['Unique Stocks'].iloc[:,0:3]\n",
    "# rename Code to Ticker\n",
    "stocks_df.rename(columns={'Code': 'Ticker'}, inplace=True)\n",
    "\n",
    "# use valid_tickers to filter the stocks_df\n",
    "stocks_df = stocks_df[stocks_df['Ticker'].isin(valid_tickers)].reset_index(drop=True)\n",
    "# display(stocks_df)"
   ]
  },
  {
   "cell_type": "code",
   "execution_count": 6,
   "metadata": {},
   "outputs": [],
   "source": [
    "nace_df = eikon_dfs['NACE'].iloc[1:,1:3]\n",
    "\n",
    "# rename columns\n",
    "nace_df.columns = ['Ticker', 'NACE']\n",
    "\n",
    "# identify the NACE codes\n",
    "nace_df['NACE'] = nace_df['NACE'].str.extract(r'\\((\\d+(?:\\.\\d+)?)\\)$')\n",
    "\n",
    "# manually map remaining NACE codes to companies\n",
    "manual_nace = {'CEMAT.CO':'68.20',\n",
    "               'CICC.CO^L01':'70.10',\n",
    "               'DAI.CO^A02':'70.10',\n",
    "               'GR4.CO^A05':'80.10',\n",
    "               'GR4n1.CO^J04':'80.10',\n",
    "               'GR4n2.CO^J04':'80.10',\n",
    "               'IFAC.CO^D03':'64.30',\n",
    "               'INVb.CO^F05':'64.30',\n",
    "               'IPFCa.CO^G02':'70.10',\n",
    "               'IPFCb.CO^G02':'70.10',\n",
    "               'OBJCa.CO^D02':'62.01',\n",
    "               'OBJCb.CO^D02':'62.01',\n",
    "               'ORSTED.CO':'35.11',\n",
    "               'POFLSb.CO^H06':'64.30',\n",
    "               'POKAP.CO^B06':'64.30',\n",
    "               'RADIb.CO^C04':'32.50',\n",
    "               'TRMC.CO^H02':'64.19',\n",
    "               'VEND.CO^C02':'64.19'}\n",
    "\n",
    "for ticker, nace_code in manual_nace.items():\n",
    "    if ticker in nace_df['Ticker'].values:\n",
    "        nace_df.loc[nace_df['Ticker'] == ticker, 'NACE'] = nace_code\n",
    "    else:   \n",
    "        print(f\"Ticker {ticker} not found in NACE DataFrame.\")\n",
    "\n",
    "# split the NACE codes into separate columns\n",
    "nace_df['NACE Industry'] = nace_df['NACE'].str.split('.', expand=True)[0]\n",
    "nace_df['NACE Sub-industry'] = nace_df['NACE'].str.split('.', expand=True)[1]"
   ]
  },
  {
   "cell_type": "code",
   "execution_count": 8,
   "metadata": {},
   "outputs": [
    {
     "data": {
      "text/html": [
       "<div>\n",
       "<style scoped>\n",
       "    .dataframe tbody tr th:only-of-type {\n",
       "        vertical-align: middle;\n",
       "    }\n",
       "\n",
       "    .dataframe tbody tr th {\n",
       "        vertical-align: top;\n",
       "    }\n",
       "\n",
       "    .dataframe thead th {\n",
       "        text-align: right;\n",
       "    }\n",
       "</style>\n",
       "<table border=\"1\" class=\"dataframe\">\n",
       "  <thead>\n",
       "    <tr style=\"text-align: right;\">\n",
       "      <th></th>\n",
       "      <th>Ticker</th>\n",
       "      <th>Shares</th>\n",
       "    </tr>\n",
       "  </thead>\n",
       "  <tbody>\n",
       "    <tr>\n",
       "      <th>1</th>\n",
       "      <td>AAB.CO</td>\n",
       "      <td>2.696297e+06</td>\n",
       "    </tr>\n",
       "    <tr>\n",
       "      <th>2</th>\n",
       "      <td>AABn.CO^F06</td>\n",
       "      <td>2.696297e+06</td>\n",
       "    </tr>\n",
       "    <tr>\n",
       "      <th>3</th>\n",
       "      <td>AABn.CO^J03</td>\n",
       "      <td>2.696297e+06</td>\n",
       "    </tr>\n",
       "    <tr>\n",
       "      <th>4</th>\n",
       "      <td>AARHUS.CO^D12</td>\n",
       "      <td>1.620366e+07</td>\n",
       "    </tr>\n",
       "    <tr>\n",
       "      <th>5</th>\n",
       "      <td>AARUTD.CO^K05</td>\n",
       "      <td>4.000000e+06</td>\n",
       "    </tr>\n",
       "    <tr>\n",
       "      <th>...</th>\n",
       "      <td>...</td>\n",
       "      <td>...</td>\n",
       "    </tr>\n",
       "    <tr>\n",
       "      <th>419</th>\n",
       "      <td>VWSn.CO^F04</td>\n",
       "      <td>1.009867e+09</td>\n",
       "    </tr>\n",
       "    <tr>\n",
       "      <th>420</th>\n",
       "      <td>WALLS.CO^I10</td>\n",
       "      <td>2.145066e+08</td>\n",
       "    </tr>\n",
       "    <tr>\n",
       "      <th>421</th>\n",
       "      <td>WEVE.CO^C05</td>\n",
       "      <td>3.010864e+06</td>\n",
       "    </tr>\n",
       "    <tr>\n",
       "      <th>422</th>\n",
       "      <td>WEWER.CO^L05</td>\n",
       "      <td>5.525400e+04</td>\n",
       "    </tr>\n",
       "    <tr>\n",
       "      <th>423</th>\n",
       "      <td>ZELA.CO</td>\n",
       "      <td>7.105130e+07</td>\n",
       "    </tr>\n",
       "  </tbody>\n",
       "</table>\n",
       "<p>423 rows × 2 columns</p>\n",
       "</div>"
      ],
      "text/plain": [
       "0           Ticker        Shares\n",
       "1           AAB.CO  2.696297e+06\n",
       "2      AABn.CO^F06  2.696297e+06\n",
       "3      AABn.CO^J03  2.696297e+06\n",
       "4    AARHUS.CO^D12  1.620366e+07\n",
       "5    AARUTD.CO^K05  4.000000e+06\n",
       "..             ...           ...\n",
       "419    VWSn.CO^F04  1.009867e+09\n",
       "420   WALLS.CO^I10  2.145066e+08\n",
       "421    WEVE.CO^C05  3.010864e+06\n",
       "422   WEWER.CO^L05  5.525400e+04\n",
       "423        ZELA.CO  7.105130e+07\n",
       "\n",
       "[423 rows x 2 columns]"
      ]
     },
     "metadata": {},
     "output_type": "display_data"
    }
   ],
   "source": [
    "shares_df = eikon_dfs['Outstanding Shares'].iloc[:,1:]\n",
    "\n",
    "# make first row the header\n",
    "shares_df.columns = shares_df.iloc[0]\n",
    "shares_df = shares_df[1:]\n",
    "\n",
    "# rename the first column to 'Ticker'\n",
    "shares_df.rename(columns={shares_df.columns[0]: 'Ticker'}, inplace=True)\n",
    "\n",
    "# set columns to type numeric and findf the valid first occurrence\n",
    "shares_df.iloc[:, 1:] = shares_df.iloc[:, 1:].apply(pd.to_numeric, errors='coerce')\n",
    "shares_df['Shares'] = shares_df.apply(lambda row: first_valid(row, shares_df.columns[1:]),axis=1)\n",
    "\n",
    "# drop all columns except 'Ticker' and 'Shares'\n",
    "shares_df = shares_df[['Ticker', 'Shares']]\n",
    "\n",
    "display(shares_df)"
   ]
  },
  {
   "cell_type": "code",
   "execution_count": null,
   "metadata": {},
   "outputs": [
    {
     "data": {
      "text/html": [
       "<div>\n",
       "<style scoped>\n",
       "    .dataframe tbody tr th:only-of-type {\n",
       "        vertical-align: middle;\n",
       "    }\n",
       "\n",
       "    .dataframe tbody tr th {\n",
       "        vertical-align: top;\n",
       "    }\n",
       "\n",
       "    .dataframe thead th {\n",
       "        text-align: right;\n",
       "    }\n",
       "</style>\n",
       "<table border=\"1\" class=\"dataframe\">\n",
       "  <thead>\n",
       "    <tr style=\"text-align: right;\">\n",
       "      <th></th>\n",
       "      <th>Name</th>\n",
       "      <th>Code incl. Expiration</th>\n",
       "      <th>Ticker</th>\n",
       "      <th>Shares</th>\n",
       "      <th>NACE</th>\n",
       "      <th>NACE Industry</th>\n",
       "      <th>NACE Sub-industry</th>\n",
       "    </tr>\n",
       "  </thead>\n",
       "  <tbody>\n",
       "    <tr>\n",
       "      <th>0</th>\n",
       "      <td>Aalborg Boldspil</td>\n",
       "      <td>AAB.CO</td>\n",
       "      <td>AAB.CO</td>\n",
       "      <td>2.696297e+06</td>\n",
       "      <td>93.12</td>\n",
       "      <td>93</td>\n",
       "      <td>12</td>\n",
       "    </tr>\n",
       "    <tr>\n",
       "      <th>1</th>\n",
       "      <td>Aarhus Lokalbank</td>\n",
       "      <td>AARHUS.CO^D12 (expired)</td>\n",
       "      <td>AARHUS.CO^D12</td>\n",
       "      <td>1.620366e+07</td>\n",
       "      <td>64.19</td>\n",
       "      <td>64</td>\n",
       "      <td>19</td>\n",
       "    </tr>\n",
       "    <tr>\n",
       "      <th>2</th>\n",
       "      <td>Aak Denmark Hldg</td>\n",
       "      <td>AARUTD.CO^K05 (expired)</td>\n",
       "      <td>AARUTD.CO^K05</td>\n",
       "      <td>4.000000e+06</td>\n",
       "      <td>64.20</td>\n",
       "      <td>64</td>\n",
       "      <td>20</td>\n",
       "    </tr>\n",
       "    <tr>\n",
       "      <th>3</th>\n",
       "      <td>Affitech</td>\n",
       "      <td>AFFI.CO^J12 (expired)</td>\n",
       "      <td>AFFI.CO^J12</td>\n",
       "      <td>4.877215e+08</td>\n",
       "      <td>72.19</td>\n",
       "      <td>72</td>\n",
       "      <td>19</td>\n",
       "    </tr>\n",
       "    <tr>\n",
       "      <th>4</th>\n",
       "      <td>Agat Ejendomme</td>\n",
       "      <td>AGATE.CO</td>\n",
       "      <td>AGATE.CO</td>\n",
       "      <td>1.177833e+08</td>\n",
       "      <td>68.10</td>\n",
       "      <td>68</td>\n",
       "      <td>10</td>\n",
       "    </tr>\n",
       "    <tr>\n",
       "      <th>...</th>\n",
       "      <td>...</td>\n",
       "      <td>...</td>\n",
       "      <td>...</td>\n",
       "      <td>...</td>\n",
       "      <td>...</td>\n",
       "      <td>...</td>\n",
       "      <td>...</td>\n",
       "    </tr>\n",
       "    <tr>\n",
       "      <th>336</th>\n",
       "      <td>Vestas Wind</td>\n",
       "      <td>VWS.CO</td>\n",
       "      <td>VWS.CO</td>\n",
       "      <td>1.009867e+09</td>\n",
       "      <td>28.11</td>\n",
       "      <td>28</td>\n",
       "      <td>11</td>\n",
       "    </tr>\n",
       "    <tr>\n",
       "      <th>337</th>\n",
       "      <td>Selskab 1979</td>\n",
       "      <td>WALLS.CO^I10 (expired)</td>\n",
       "      <td>WALLS.CO^I10</td>\n",
       "      <td>2.145066e+08</td>\n",
       "      <td>68.20</td>\n",
       "      <td>68</td>\n",
       "      <td>20</td>\n",
       "    </tr>\n",
       "    <tr>\n",
       "      <th>338</th>\n",
       "      <td>Magasin Du Nord</td>\n",
       "      <td>WEVE.CO^C05 (expired)</td>\n",
       "      <td>WEVE.CO^C05</td>\n",
       "      <td>3.010864e+06</td>\n",
       "      <td>47.71</td>\n",
       "      <td>47</td>\n",
       "      <td>71</td>\n",
       "    </tr>\n",
       "    <tr>\n",
       "      <th>339</th>\n",
       "      <td>Wewers</td>\n",
       "      <td>WEWER.CO^L05 (expired)</td>\n",
       "      <td>WEWER.CO^L05</td>\n",
       "      <td>5.525400e+04</td>\n",
       "      <td>23.32</td>\n",
       "      <td>23</td>\n",
       "      <td>32</td>\n",
       "    </tr>\n",
       "    <tr>\n",
       "      <th>340</th>\n",
       "      <td>Zealand Pharma</td>\n",
       "      <td>ZELA.CO</td>\n",
       "      <td>ZELA.CO</td>\n",
       "      <td>7.105130e+07</td>\n",
       "      <td>72.11</td>\n",
       "      <td>72</td>\n",
       "      <td>11</td>\n",
       "    </tr>\n",
       "  </tbody>\n",
       "</table>\n",
       "<p>341 rows × 7 columns</p>\n",
       "</div>"
      ],
      "text/plain": [
       "                 Name    Code incl. Expiration         Ticker        Shares  \\\n",
       "0    Aalborg Boldspil                   AAB.CO         AAB.CO  2.696297e+06   \n",
       "1    Aarhus Lokalbank  AARHUS.CO^D12 (expired)  AARHUS.CO^D12  1.620366e+07   \n",
       "2    Aak Denmark Hldg  AARUTD.CO^K05 (expired)  AARUTD.CO^K05  4.000000e+06   \n",
       "3            Affitech    AFFI.CO^J12 (expired)    AFFI.CO^J12  4.877215e+08   \n",
       "4      Agat Ejendomme                 AGATE.CO       AGATE.CO  1.177833e+08   \n",
       "..                ...                      ...            ...           ...   \n",
       "336       Vestas Wind                   VWS.CO         VWS.CO  1.009867e+09   \n",
       "337      Selskab 1979   WALLS.CO^I10 (expired)   WALLS.CO^I10  2.145066e+08   \n",
       "338   Magasin Du Nord    WEVE.CO^C05 (expired)    WEVE.CO^C05  3.010864e+06   \n",
       "339            Wewers   WEWER.CO^L05 (expired)   WEWER.CO^L05  5.525400e+04   \n",
       "340    Zealand Pharma                  ZELA.CO        ZELA.CO  7.105130e+07   \n",
       "\n",
       "      NACE NACE Industry NACE Sub-industry  \n",
       "0    93.12            93                12  \n",
       "1    64.19            64                19  \n",
       "2    64.20            64                20  \n",
       "3    72.19            72                19  \n",
       "4    68.10            68                10  \n",
       "..     ...           ...               ...  \n",
       "336  28.11            28                11  \n",
       "337  68.20            68                20  \n",
       "338  47.71            47                71  \n",
       "339  23.32            23                32  \n",
       "340  72.11            72                11  \n",
       "\n",
       "[341 rows x 7 columns]"
      ]
     },
     "metadata": {},
     "output_type": "display_data"
    }
   ],
   "source": [
    "# join the stocks_df with the nace_df df\n",
    "stocks_df = stocks_df.merge(shares_df, how='left', on='Ticker')\n",
    "stocks_df = stocks_df.merge(nace_df, how='left', on='Ticker')\n",
    "\n",
    "# display(stocks_df)\n",
    "\n",
    "# save as stocks\n",
    "stocks_df.to_csv('data/stocks.csv', index=False)"
   ]
  },
  {
   "cell_type": "markdown",
   "metadata": {},
   "source": [
    "### Clean P/E, Turnover, Bid, and Ask data"
   ]
  },
  {
   "cell_type": "code",
   "execution_count": 10,
   "metadata": {},
   "outputs": [
    {
     "name": "stdout",
     "output_type": "stream",
     "text": [
      "Companies with no PE ratio in the entire period: 96\n"
     ]
    },
    {
     "name": "stderr",
     "output_type": "stream",
     "text": [
      "/opt/anaconda3/lib/python3.11/site-packages/pandas/core/indexes/base.py:7588: FutureWarning: Dtype inference on a pandas object (Series, Index, ExtensionArray) is deprecated. The Index constructor will keep the original dtype in the future. Call `infer_objects` on the result to get the old behavior.\n",
      "  return Index(sequences[0], name=names)\n"
     ]
    }
   ],
   "source": [
    "pe_ratio_df = eikon_dfs['PE Ratio'].iloc[:,1:]\n",
    "\n",
    "# convert the extracted values to strings to prevent dtype inference issues\n",
    "pe_ratio_df.columns = pd.MultiIndex.from_arrays(pe_ratio_df.iloc[:2].values)\n",
    "\n",
    "# drop the first two rows as they are now headers\n",
    "pe_ratio_df = pe_ratio_df.iloc[2:].reset_index(drop=True)\n",
    "\n",
    "# set the first column as index\n",
    "pe_ratio_df.set_index(pe_ratio_df.columns[0], inplace=True)\n",
    "pe_ratio_df.index.name = \"Timestamp\"\n",
    "\n",
    "# filter to only include valid tickers\n",
    "pe_ratio_df = pe_ratio_df.loc[:, (valid_tickers, slice(None))]\n",
    "\n",
    "# rename all the columns called 'PERATIO' to 'PE Ratio'\n",
    "pe_ratio_df.columns = [(ticker, 'PE Ratio') if col == 'PERATIO' else (ticker, col) for ticker, col in pe_ratio_df.columns]\n",
    "\n",
    "# Count columns (tickers) where all values are NaN\n",
    "count_no_pe = pe_ratio_df.isna().all(axis=0).sum()\n",
    "\n",
    "print(f\"Companies with no PE ratio in the entire period: {count_no_pe}\")\n",
    "\n",
    "# # Get the names of columns (tickers) where all values are NaN\n",
    "# no_pe_columns = pe_ratio_df.columns[pe_ratio_df.isna().all(axis=0)]\n",
    "\n",
    "# # Print the names of these columns\n",
    "# print(\"Companies with no PE ratio in the entire period:\")\n",
    "# for col in no_pe_columns:\n",
    "#     print(col[0])"
   ]
  },
  {
   "cell_type": "code",
   "execution_count": 11,
   "metadata": {},
   "outputs": [
    {
     "name": "stderr",
     "output_type": "stream",
     "text": [
      "/opt/anaconda3/lib/python3.11/site-packages/pandas/core/indexes/base.py:7588: FutureWarning: Dtype inference on a pandas object (Series, Index, ExtensionArray) is deprecated. The Index constructor will keep the original dtype in the future. Call `infer_objects` on the result to get the old behavior.\n",
      "  return Index(sequences[0], name=names)\n"
     ]
    }
   ],
   "source": [
    "turnover_df = eikon_dfs['Turnover'].iloc[:,1:]\n",
    "\n",
    "# convert the extracted values to strings to prevent dtype inference issues\n",
    "turnover_df.columns = pd.MultiIndex.from_arrays(turnover_df.iloc[:2].values)\n",
    "\n",
    "# drop the first two rows as they are now headers\n",
    "turnover_df = turnover_df.iloc[2:].reset_index(drop=True)\n",
    "\n",
    "# set the first column as index\n",
    "turnover_df.set_index(turnover_df.columns[0], inplace=True)\n",
    "turnover_df.index.name = \"Timestamp\"\n",
    "\n",
    "# filter to only include valid tickers\n",
    "turnover_df = turnover_df.loc[:, (valid_tickers, slice(None))]"
   ]
  },
  {
   "cell_type": "code",
   "execution_count": 12,
   "metadata": {},
   "outputs": [
    {
     "name": "stderr",
     "output_type": "stream",
     "text": [
      "/opt/anaconda3/lib/python3.11/site-packages/pandas/core/indexes/base.py:7588: FutureWarning: Dtype inference on a pandas object (Series, Index, ExtensionArray) is deprecated. The Index constructor will keep the original dtype in the future. Call `infer_objects` on the result to get the old behavior.\n",
      "  return Index(sequences[0], name=names)\n"
     ]
    }
   ],
   "source": [
    "ask_df = eikon_dfs['Ask'].iloc[:,1:]\n",
    "\n",
    "# convert the extracted values to strings to prevent dtype inference issues\n",
    "ask_df.columns = pd.MultiIndex.from_arrays(ask_df.iloc[:2].values)\n",
    "\n",
    "# drop the first two rows as they are now headers\n",
    "ask_df = ask_df.iloc[2:].reset_index(drop=True)\n",
    "\n",
    "# set the first column as index\n",
    "ask_df.set_index(ask_df.columns[0], inplace=True)\n",
    "ask_df.index.name = \"Timestamp\"\n",
    "# filter to only include valid tickers\n",
    "ask_df = ask_df.loc[:, (valid_tickers, slice(None))]"
   ]
  },
  {
   "cell_type": "code",
   "execution_count": 13,
   "metadata": {},
   "outputs": [
    {
     "name": "stderr",
     "output_type": "stream",
     "text": [
      "/opt/anaconda3/lib/python3.11/site-packages/pandas/core/indexes/base.py:7588: FutureWarning: Dtype inference on a pandas object (Series, Index, ExtensionArray) is deprecated. The Index constructor will keep the original dtype in the future. Call `infer_objects` on the result to get the old behavior.\n",
      "  return Index(sequences[0], name=names)\n"
     ]
    }
   ],
   "source": [
    "bid_df = eikon_dfs['Bid'].iloc[:,1:]\n",
    "\n",
    "# convert the extracted values to strings to prevent dtype inference issues\n",
    "bid_df.columns = pd.MultiIndex.from_arrays(bid_df.iloc[:2].values)\n",
    "\n",
    "# drop the first two rows as they are now headers\n",
    "bid_df = bid_df.iloc[2:].reset_index(drop=True)\n",
    "\n",
    "# set the first column as index\n",
    "bid_df.set_index(bid_df.columns[0], inplace=True)\n",
    "bid_df.index.name = \"Timestamp\"\n",
    "\n",
    "# filter to only include valid tickers\n",
    "bid_df = bid_df.loc[:, (valid_tickers, slice(None))]"
   ]
  },
  {
   "cell_type": "markdown",
   "metadata": {},
   "source": [
    "### Join all dataframes"
   ]
  },
  {
   "cell_type": "code",
   "execution_count": 14,
   "metadata": {},
   "outputs": [],
   "source": [
    "df = trade_df.join([pe_ratio_df, turnover_df, ask_df, bid_df],how='outer')\n",
    "\n",
    "# Sort columns by the first level of the multi-index\n",
    "df = df.sort_index(axis=1, level=0)\n",
    "\n",
    "# display(df)"
   ]
  },
  {
   "cell_type": "code",
   "execution_count": null,
   "metadata": {},
   "outputs": [],
   "source": [
    "# backward fill data if there are gaps in the date range\n",
    "# create an IndexSlice for easier multi-index slicing\n",
    "pd.set_option('future.no_silent_downcasting', True)\n",
    "idx = pd.IndexSlice\n",
    "\n",
    "# loop over the tickers that are actually in the df\n",
    "for ticker in df.columns.get_level_values(0).unique():\n",
    "    # extract the sub-dataframe for this ticker using .loc with IndexSlice\n",
    "    subdf = df.loc[:, idx[ticker, :]]\n",
    "    \n",
    "    # find the index range where the ticker has any valid data\n",
    "    valid_idx = subdf.dropna(how='all').index\n",
    "\n",
    "    # use backward fill in the date range\n",
    "    df.loc[valid_idx.max():valid_idx.min(), idx[ticker, :]] = df.loc[valid_idx.max():valid_idx.min(), idx[ticker, :]].bfill()\n",
    "\n",
    "# for now, drop all PE Ratios until we get for the remaining ~90 tickers\n",
    "df.drop(columns=[(ticker, 'PE Ratio') for ticker in df.columns.get_level_values(0).unique()], inplace=True)\n",
    "\n",
    "# display the updated df\n",
    "display(df)\n",
    "\n",
    "# save df\n",
    "df.to_csv('data/trade.csv')"
   ]
  }
 ],
 "metadata": {
  "kernelspec": {
   "display_name": "base",
   "language": "python",
   "name": "python3"
  },
  "language_info": {
   "codemirror_mode": {
    "name": "ipython",
    "version": 3
   },
   "file_extension": ".py",
   "mimetype": "text/x-python",
   "name": "python",
   "nbconvert_exporter": "python",
   "pygments_lexer": "ipython3",
   "version": "3.11.8"
  }
 },
 "nbformat": 4,
 "nbformat_minor": 2
}
