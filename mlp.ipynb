{
 "cells": [
  {
   "cell_type": "markdown",
   "metadata": {},
   "source": [
    "### Import libraries"
   ]
  },
  {
   "cell_type": "code",
   "execution_count": 1,
   "metadata": {},
   "outputs": [],
   "source": [
    "import pandas as pd\n",
    "import numpy as np\n",
    "import torch\n",
    "import torch.nn as nn\n",
    "import torch.optim as optim\n",
    "from torch.utils.data import TensorDataset, DataLoader\n",
    "from sklearn.preprocessing import StandardScaler\n",
    "from models import *\n",
    "import matplotlib.pyplot as plt"
   ]
  },
  {
   "cell_type": "markdown",
   "metadata": {},
   "source": [
    "# Import data"
   ]
  },
  {
   "cell_type": "code",
   "execution_count": 2,
   "metadata": {},
   "outputs": [],
   "source": [
    "# read data\n",
    "df = pd.read_csv('data/data.csv')"
   ]
  },
  {
   "cell_type": "markdown",
   "metadata": {},
   "source": [
    "# Prepare data for training"
   ]
  },
  {
   "cell_type": "code",
   "execution_count": 3,
   "metadata": {},
   "outputs": [],
   "source": [
    "feature_cols = [col for col in df.columns if col not in ['timestamp','ticker','target']]\n",
    "df_norm = df.copy(deep=True)\n",
    "df_norm = df_norm.dropna(subset=feature_cols) # should not drop any rows\n",
    "\n",
    "df_norm['timestamp'] = pd.to_datetime(df_norm['timestamp'])\n",
    "\n",
    "# drop data from 2025\n",
    "df_norm = df_norm[df_norm['timestamp'] < '2025-01-01']\n",
    "\n",
    "# normalize inputs\n",
    "X_values = df_norm[feature_cols].values.astype('float64')\n",
    "\n",
    "# # simple normalization: subtract mean, divide std\n",
    "# X_mean, X_std = X_values.mean(axis=0), X_values.std(axis=0)\n",
    "# X_values = (X_values - X_mean) / (X_std + 1e-8) # adding a small epsilon to avoid division by zero\n",
    "\n",
    "y_values = df_norm['target'].values.astype('float64')\n",
    "\n",
    "periods = { '20' : '2020-01-01', \n",
    "            '21' : '2021-01-01', \n",
    "            '22' : '2022-01-01', \n",
    "            '23' : '2023-01-01' \n",
    "            } # year used for validation i.e. 2020-01-01 will use 2001-2019 for training and 2020 for validation\n",
    "\n",
    "X_train, y_train = {}, {}\n",
    "X_val, y_val = {}, {}\n",
    "X_test, y_test = {}, {}\n",
    "X_scalars, y_scalars = {}, {}\n",
    "\n",
    "\n",
    "for name, period in periods.items():\n",
    "    tr_mask = df_norm['timestamp'] < period\n",
    "    va_mask = (df_norm['timestamp'] >= period) & (df_norm['timestamp'] - pd.DateOffset(years=1) < period)\n",
    "    te_mask = (df_norm['timestamp'] - pd.DateOffset(years=1) >= period) & (df_norm['timestamp'] - pd.DateOffset(years=2) < period)\n",
    "\n",
    "    assert (df_norm.loc[tr_mask, 'timestamp'].max() <\n",
    "        df_norm.loc[va_mask, 'timestamp'].min()), \"train leaks into val\"\n",
    "\n",
    "    assert (df_norm.loc[va_mask, 'timestamp'].max() <\n",
    "            df_norm.loc[te_mask, 'timestamp'].min()), \"val leaks into test\"\n",
    "\n",
    "    X_tr, y_tr = X_values[tr_mask], y_values[tr_mask]\n",
    "    X_va, y_va = X_values[va_mask], y_values[va_mask]\n",
    "    X_te, y_te = X_values[te_mask], y_values[te_mask]\n",
    "\n",
    "    X_scalars[name], y_scalars[name] = StandardScaler(), StandardScaler()\n",
    "\n",
    "    X_scalars[name].fit(X_tr)\n",
    "    X_train[name] = X_scalars[name].transform(X_tr)\n",
    "    X_val[name] = X_scalars[name].transform(X_va)\n",
    "    X_test[name] = X_scalars[name].transform(X_te)\n",
    "\n",
    "    # ignoring the target normalization\n",
    "    # y_scalars[name].fit(y_tr.reshape(-1, 1))\n",
    "    # y_train[name] = y_scalars[name].transform(y_tr.reshape(-1, 1))\n",
    "    # y_val[name] = y_scalars[name].transform(y_va.reshape(-1, 1))\n",
    "    # y_test[name] = y_scalars[name].transform(y_te.reshape(-1, 1))\n",
    "\n",
    "    y_train[name] = y_tr.reshape(-1, 1)\n",
    "    y_val[name] = y_va.reshape(-1, 1)\n",
    "    y_test[name] = y_te.reshape(-1, 1)\n"
   ]
  },
  {
   "cell_type": "code",
   "execution_count": 4,
   "metadata": {},
   "outputs": [
    {
     "name": "stdout",
     "output_type": "stream",
     "text": [
      "Using device: mps\n"
     ]
    }
   ],
   "source": [
    "# moving to metal or CUDA GPU if available\n",
    "device = torch.device(\"mps\" if torch.backends.mps.is_available() else (\"cuda\" if torch.cuda.is_available() else \"cpu\"))\n",
    "print(\"Using device:\", device)\n",
    "\n",
    "# general hyperparameters\n",
    "# input_dim = x_train_mlp.shape[1]\n",
    "hidden_depth = 2 # only hidden, excluding in- and output layers\n",
    "hidden_width = 32 # int for all being equal width; list for different widths\n",
    "learning_rate = 3e-4 # increased from 1e-3 as we have full batching\n",
    "activation_fun = nn.ReLU # nn.ReLU nn.Tanh nn.Sigmoid nn.LeakyReLU nn.Identity\n",
    "\n",
    "\n",
    "# general critereon and regularization parameters\n",
    "criterion = nn.MSELoss()\n",
    "lambda_l1 = 0.0 # 1e-3 currently 0 \n",
    "lambda_l2 = 0.0 # 1e-3 0 because of weight decay\n",
    "\n",
    "\n",
    "weight_decay = 1e-3\n",
    "dropout = 0.2\n",
    "\n",
    "# general parmeters\n",
    "patience = 250\n",
    "print_freq = 250\n",
    "epochs = 500\n",
    "batch_size = 5096 # adjust to your GPU memory\n"
   ]
  },
  {
   "cell_type": "markdown",
   "metadata": {},
   "source": [
    "# Train the model"
   ]
  },
  {
   "cell_type": "code",
   "execution_count": 5,
   "metadata": {},
   "outputs": [
    {
     "name": "stdout",
     "output_type": "stream",
     "text": [
      "Training model for period 20...\n",
      "Epoch 250/500  - Train Loss: 2.48182E-02  - Val Loss: 2.03759E-02\n",
      "Early stopping at epoch 350. Best val loss: 2.01615E-02\n",
      "Best val loss: 2.01615E-02\n",
      "Model saved to models/mlp_y20_l10.0_l20.001_drop0.2_lr0.0003_w32_d2.pth\n",
      "Training model for period 21...\n",
      "Epoch 250/500  - Train Loss: 2.45375E-02  - Val Loss: 1.25915E-02\n",
      "Early stopping at epoch 334. Best val loss: 1.24979E-02\n",
      "Best val loss: 1.24979E-02\n",
      "Model saved to models/mlp_y21_l10.0_l20.001_drop0.2_lr0.0003_w32_d2.pth\n",
      "Training model for period 22...\n",
      "Epoch 250/500  - Train Loss: 2.41989E-02  - Val Loss: 8.43389E-02\n",
      "Early stopping at epoch 305. Best val loss: 8.38895E-02\n",
      "Best val loss: 8.38895E-02\n",
      "Model saved to models/mlp_y22_l10.0_l20.001_drop0.2_lr0.0003_w32_d2.pth\n",
      "Training model for period 23...\n",
      "Epoch 250/500  - Train Loss: 2.61671E-02  - Val Loss: 1.36798E-02\n",
      "Early stopping at epoch 328. Best val loss: 1.31836E-02\n",
      "Best val loss: 1.31836E-02\n",
      "Model saved to models/mlp_y23_l10.0_l20.001_drop0.2_lr0.0003_w32_d2.pth\n"
     ]
    }
   ],
   "source": [
    "best_models = {}\n",
    "history = {}\n",
    "models = {}\n",
    "\n",
    "for name, period in periods.items():\n",
    "    np.random.seed(42)\n",
    "    torch.manual_seed(42)\n",
    "    print(f\"Training model for year '{name}...\")\n",
    "    input_dim = X_train[name].shape[1]\n",
    "    models[name] = MLPModel(input_dim,depth=hidden_depth,width=hidden_width, dropout=dropout, activation=activation_fun).to(device)\n",
    "    optimizer = torch.optim.AdamW(models[name].parameters(), weight_decay=weight_decay, lr=learning_rate)\n",
    "    train = MLPdataset(X_train[name], y_train[name])\n",
    "    val = MLPdataset(X_val[name], y_val[name])\n",
    "    best_models[name], history[name] = train_mlp(train,          \n",
    "                                                val,\n",
    "                                                models[name],\n",
    "                                                criterion,\n",
    "                                                epochs,\n",
    "                                                patience,\n",
    "                                                print_freq,\n",
    "                                                device,\n",
    "                                                optimizer,\n",
    "                                                lambda_l1=lambda_l1,\n",
    "                                                lambda_l2=lambda_l2,\n",
    "                                                batch_size=batch_size,\n",
    "                                                shuffle_train=True,\n",
    "                                                shuffle_val=False,\n",
    "                                                save_path=f'models/mlp_y{name}_l1{lambda_l1}_l2{weight_decay}_drop{dropout}_lr{learning_rate}_w{hidden_width}_d{hidden_depth}.pth')"
   ]
  },
  {
   "cell_type": "code",
   "execution_count": 6,
   "metadata": {},
   "outputs": [],
   "source": [
    "# best_models = {}\n",
    "# history = {}\n",
    "# models = {}\n",
    "\n",
    "# for name, period in periods.items():\n",
    "#     np.random.seed(42)\n",
    "#     torch.manual_seed(42)\n",
    "#     print(f\"Training model for period {name}...\")\n",
    "#     input_dim = X_train[name].shape[1]\n",
    "#     models[name] = MLPModel(input_dim,depth=hidden_depth,width=hidden_width, dropout=dropout, activation=activation_fun).to(device)\n",
    "#     optimizer = torch.optim.AdamW(models[name].parameters(), weight_decay=weight_decay, lr=learning_rate)\n",
    "#     train = MLPdataset(X_train[name], y_train[name])\n",
    "#     val = MLPdataset(X_val[name], y_val[name])\n",
    "#     best_models[name], history[name] = train_mlp(train,          \n",
    "#                                                  val,\n",
    "#                                                  models[name],\n",
    "#                                                  criterion,\n",
    "#                                                  epochs,\n",
    "#                                                  patience,\n",
    "#                                                  print_freq,\n",
    "#                                                  device,\n",
    "#                                                  optimizer,\n",
    "#                                                  lambda_l1=lambda_l1,\n",
    "#                                                  lambda_l2=lambda_l2,\n",
    "#                                                  batch_size=batch_size,\n",
    "#                                                  shuffle_train=True,\n",
    "#                                                  shuffle_val=False,\n",
    "#                                                  save_path=f'models/mlp_model_{name}.pth')"
   ]
  },
  {
   "cell_type": "markdown",
   "metadata": {},
   "source": [
    "# Graph the model"
   ]
  },
  {
   "cell_type": "code",
   "execution_count": null,
   "metadata": {},
   "outputs": [
    {
     "data": {
      "image/png": "[encoded data removed]",
      "text/plain": [
       "<Figure size 1000x600 with 1 Axes>"
      ]
     },
     "metadata": {},
     "output_type": "display_data"
    },
    {
     "ename": "RuntimeError",
     "evalue": "The size of tensor a (63) must match the size of tensor b (128) at non-singleton dimension 0",
     "output_type": "error",
     "traceback": [
      "\u001b[0;31m---------------------------------------------------------------------------\u001b[0m",
      "\u001b[0;31mRuntimeError\u001b[0m                              Traceback (most recent call last)",
      "Cell \u001b[0;32mIn[11], line 39\u001b[0m\n\u001b[1;32m     36\u001b[0m     best_model\u001b[38;5;241m.\u001b[39mzero_grad()\n\u001b[1;32m     37\u001b[0m     output_sum\u001b[38;5;241m.\u001b[39mbackward()\n\u001b[0;32m---> 39\u001b[0m     feature_importance \u001b[38;5;241m+\u001b[39m\u001b[38;5;241m=\u001b[39m batch_X\u001b[38;5;241m.\u001b[39mgrad\u001b[38;5;241m.\u001b[39mabs()\u001b[38;5;241m.\u001b[39msum(dim\u001b[38;5;241m=\u001b[39m\u001b[38;5;241m0\u001b[39m)\n\u001b[1;32m     40\u001b[0m     n_samples \u001b[38;5;241m+\u001b[39m\u001b[38;5;241m=\u001b[39m batch_X\u001b[38;5;241m.\u001b[39msize(\u001b[38;5;241m0\u001b[39m)\n\u001b[1;32m     42\u001b[0m feature_importance \u001b[38;5;241m/\u001b[39m\u001b[38;5;241m=\u001b[39m n_samples\n",
      "\u001b[0;31mRuntimeError\u001b[0m: The size of tensor a (63) must match the size of tensor b (128) at non-singleton dimension 0"
     ]
    }
   ],
   "source": [
    "top_n = 20  # how many features to show\n",
    "\n",
    "for name, period in periods.items():\n",
    "    # plot training history\n",
    "    plt.figure(figsize=(10, 6))\n",
    "    plt.plot(history[name]['train_loss'], label='Train Loss')\n",
    "    plt.plot(history[name]['val_loss'],   label='Validation Loss')\n",
    "    plt.xlabel('Epochs')\n",
    "    plt.ylabel('Loss')\n",
    "    plt.title(f'Training History for 20{name}')\n",
    "    plt.legend()\n",
    "    plt.tight_layout()\n",
    "    plt.show()\n",
    "    plt.close()\n",
    "    \n",
    "    # plot importance in best model\n",
    "    best_model = best_models[name].eval()\n",
    "    val_loader = DataLoader(MLPdataset(X_val[name], y_val[name]), batch_size=batch_size, shuffle=False)\n",
    "\n",
    "    # --- COMMENTED OUT: drop boolean vars if you want ---\n",
    "    # bool_vars = [c for c in feature_cols if c.startswith('NACE_') or c.startswith('month_')]\n",
    "    # feature_cols = [c for c in feature_cols if c not in bool_vars]\n",
    "    # ------------------------------------------------------\n",
    "\n",
    "    # accumulate gradients\n",
    "    n_features = len(feature_cols)\n",
    "    feature_importance = torch.zeros(n_features).to(device)\n",
    "    n_samples = 0\n",
    "\n",
    "    for batch_X, batch_y in val_loader:\n",
    "        batch_X = batch_X.to(device)\n",
    "        batch_X.requires_grad_()\n",
    "        outputs = best_model(batch_X)\n",
    "        output_sum = outputs.sum()\n",
    "        \n",
    "        best_model.zero_grad()\n",
    "        output_sum.backward()\n",
    "        \n",
    "        feature_importance += batch_X.grad.abs().sum(dim=0)\n",
    "        n_samples += batch_X.size(0)\n",
    "\n",
    "    feature_importance /= n_samples\n",
    "    importance_np = feature_importance.cpu().detach().numpy()\n",
    "    importance_norm = importance_np / importance_np.sum()\n",
    "\n",
    "    # sort descending\n",
    "    sorted_idx        = np.argsort(importance_norm)[::-1]\n",
    "    sorted_importance = importance_norm[sorted_idx]\n",
    "    sorted_features   = [feature_cols[i] for i in sorted_idx]\n",
    "\n",
    "    # keep only top_n\n",
    "    sorted_features = sorted_features[:top_n]\n",
    "    sorted_importance = sorted_importance[:top_n]\n",
    "\n",
    "    # bar chart of top features\n",
    "    plt.figure(figsize=(10, 6))\n",
    "    plt.bar(range(len(sorted_features)), sorted_importance, align='center')\n",
    "    plt.xticks(range(len(sorted_features)), sorted_features, rotation=90)\n",
    "    plt.xlabel('Features')\n",
    "    plt.ylabel('Normalized Importance')\n",
    "    plt.title(f'Top {top_n} Feature Importances for 20{name}')\n",
    "    plt.tight_layout()\n",
    "    plt.show()\n",
    "    plt.close()"
   ]
  },
  {
   "cell_type": "markdown",
   "metadata": {},
   "source": [
    "# Test hyperparameters"
   ]
  },
  {
   "cell_type": "code",
   "execution_count": null,
   "metadata": {},
   "outputs": [
    {
     "ename": "TypeError",
     "evalue": "'float' object is not iterable",
     "output_type": "error",
     "traceback": [
      "\u001b[0;31m---------------------------------------------------------------------------\u001b[0m",
      "\u001b[0;31mTypeError\u001b[0m                                 Traceback (most recent call last)",
      "Cell \u001b[0;32mIn[8], line 16\u001b[0m\n\u001b[1;32m     14\u001b[0m \u001b[38;5;28;01mfor\u001b[39;00m weight_decay \u001b[38;5;129;01min\u001b[39;00m weight_decay_space:\n\u001b[1;32m     15\u001b[0m     \u001b[38;5;28;01mfor\u001b[39;00m dropout \u001b[38;5;129;01min\u001b[39;00m dropout_space:\n\u001b[0;32m---> 16\u001b[0m         \u001b[38;5;28;01mfor\u001b[39;00m learning_rate \u001b[38;5;129;01min\u001b[39;00m learning_rate_space:\n\u001b[1;32m     17\u001b[0m             \u001b[38;5;28;01mfor\u001b[39;00m hidden_depth \u001b[38;5;129;01min\u001b[39;00m depth_space:\n\u001b[1;32m     18\u001b[0m                 \u001b[38;5;28;01mfor\u001b[39;00m hidden_width \u001b[38;5;129;01min\u001b[39;00m width_space:\n",
      "\u001b[0;31mTypeError\u001b[0m: 'float' object is not iterable"
     ]
    }
   ],
   "source": [
    "# training model with most data on multiple parameters\n",
    "# geomspace for weight decay\n",
    "weight_decay_space = [1e-4, 1e-3, 5e-3, 1e-2] # np.geomspace(1e-4, 1e-2, num=4)\n",
    "dropout_space = [0.0, 0.1, 0.2, 0.3] # np.geomspace(0.0, 0.3, num=4)\n",
    "learning_rate_space = [learning_rate] # np.geomspace(1e-4, 5e-3, num=4)\n",
    "depth_space = [1, 2, 3]\n",
    "width_space = [32, 64, 128]\n",
    "\n",
    "best_models_23 = {}\n",
    "history_23 = {}\n",
    "models_23 = {}\n",
    "year = '23'\n",
    "\n",
    "for weight_decay in weight_decay_space:\n",
    "    for dropout in dropout_space:\n",
    "        for learning_rate in learning_rate_space:\n",
    "            for hidden_depth in depth_space:\n",
    "                for hidden_width in width_space:\n",
    "                    np.random.seed(42)\n",
    "                    torch.manual_seed(42)\n",
    "                    print(f\"Training model for year '{year} with weight_decay={weight_decay}, dropout={dropout}, learning_rate={learning_rate}, hidden_depth={hidden_depth}, hidden_width={hidden_width}...\")\n",
    "                    # Initialize the model\n",
    "                    input_dim = X_train[year].shape[1]\n",
    "                    name = f'l1{lambda_l1}_l2{weight_decay}_drop{dropout}_lr{learning_rate}_w{hidden_width}_d{hidden_depth}'\n",
    "                    models_23[name] = MLPModel(input_dim, depth=hidden_depth, width=hidden_width, dropout=dropout, activation=activation_fun).to(device)\n",
    "                    optimizer = torch.optim.AdamW(models_23[name].parameters(), weight_decay=weight_decay, lr=learning_rate)\n",
    "                    train = MLPdataset(X_train[year], y_train[year])\n",
    "                    val = MLPdataset(X_val[year], y_val[year])\n",
    "                    best_models_23[name], history_23[name] = train_mlp(train,          \n",
    "                                                    val,\n",
    "                                                    models_23[name],\n",
    "                                                    criterion,\n",
    "                                                    epochs,\n",
    "                                                    patience,\n",
    "                                                    print_freq,\n",
    "                                                    device,\n",
    "                                                    optimizer,\n",
    "                                                    lambda_l1=lambda_l1,\n",
    "                                                    lambda_l2=lambda_l2,\n",
    "                                                    batch_size=batch_size,\n",
    "                                                    shuffle_train=True,\n",
    "                                                    shuffle_val=False,\n",
    "                                                    save_path=f'models/mlp_y23_l1{lambda_l1}_l2{weight_decay}_drop{dropout}_lr{learning_rate}_w{hidden_width}_d{hidden_depth}.pth')"
   ]
  }
 ],
 "metadata": {
  "kernelspec": {
   "display_name": "base",
   "language": "python",
   "name": "python3"
  },
  "language_info": {
   "codemirror_mode": {
    "name": "ipython",
    "version": 3
   },
   "file_extension": ".py",
   "mimetype": "text/x-python",
   "name": "python",
   "nbconvert_exporter": "python",
   "pygments_lexer": "ipython3",
   "version": "3.11.8"
  }
 },
 "nbformat": 4,
 "nbformat_minor": 2
}
