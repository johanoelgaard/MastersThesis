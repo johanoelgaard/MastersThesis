{
 "cells": [
  {
   "cell_type": "code",
   "execution_count": 1,
   "id": "e44e4a27",
   "metadata": {},
   "outputs": [],
   "source": [
    "import pandas as pd\n",
    "import numpy as np\n",
    "from functions import *\n",
    "pd.set_option('future.no_silent_downcasting', True)\n",
    "\n",
    "%load_ext autoreload\n",
    "%autoreload 2"
   ]
  },
  {
   "cell_type": "code",
   "execution_count": 2,
   "id": "36f2c035",
   "metadata": {},
   "outputs": [],
   "source": [
    "# set paths to data\n",
    "path = '/Users/johan/Library/CloudStorage/GoogleDrive-johan.oelgaard@gmail.com/My Drive/04 Økonomi/10 Thesis/Data'\n",
    "\n",
    "# read monthly market data from eikon\n",
    "rates_file = 'cb_interest.xlsx'\n",
    "rates = pd.read_excel(path + '/' + rates_file)"
   ]
  },
  {
   "cell_type": "code",
   "execution_count": 3,
   "id": "8bece367",
   "metadata": {},
   "outputs": [],
   "source": [
    "rates = rates.iloc[1:,2:]\n",
    "# rates.iloc[0,0] = 'rate'\n",
    "rates.reset_index(drop=True, inplace=True)\n",
    "# set first row as header\n",
    "rates.columns = rates.iloc[0]\n",
    "rates = rates[1:]\n",
    "# drop na rows\n",
    "rates = rates.dropna(how='all')\n",
    "# set first column as index\n",
    "rates.set_index(rates.columns[0], inplace=True)\n",
    "# transpose the dataframe\n",
    "rates = rates.transpose()\n",
    "rates.index.name = 'timestamp'\n",
    "rates.columns.name = None\n",
    "rates.reset_index(inplace=True)\n",
    "rates['timestamp'] = pd.to_datetime(rates['timestamp'], format=\"%YM%mD%d\")\n",
    "# change column names\n",
    "rates.columns = ['timestamp', 'diskonto', 'folio']\n",
    "# convert to numeric\n",
    "rates['diskonto'] = pd.to_numeric(rates['diskonto'], errors='coerce')\n",
    "rates['folio'] = pd.to_numeric(rates['folio'], errors='coerce')\n",
    "# convert to percent\n",
    "rates['diskonto'] = rates['diskonto'] / 100\n",
    "rates['folio'] = rates['folio'] / 100"
   ]
  },
  {
   "cell_type": "code",
   "execution_count": 4,
   "id": "cd193d62",
   "metadata": {},
   "outputs": [],
   "source": [
    "# save the beta to csv\n",
    "rates.to_csv('data/rf_rate.csv', index=False)"
   ]
  }
 ],
 "metadata": {
  "kernelspec": {
   "display_name": "base",
   "language": "python",
   "name": "python3"
  },
  "language_info": {
   "codemirror_mode": {
    "name": "ipython",
    "version": 3
   },
   "file_extension": ".py",
   "mimetype": "text/x-python",
   "name": "python",
   "nbconvert_exporter": "python",
   "pygments_lexer": "ipython3",
   "version": "3.11.8"
  }
 },
 "nbformat": 4,
 "nbformat_minor": 5
}
