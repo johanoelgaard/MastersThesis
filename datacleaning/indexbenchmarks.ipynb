{
 "cells": [
  {
   "cell_type": "markdown",
   "id": "42ba7315",
   "metadata": {},
   "source": [
    "# <a id='toc1_'></a>[Cleaning and creation of a C25 dataset for trading](#toc0_)\n",
    "To restrict ourself to stocks with enough liquidity, we will use the C25 index as the only stocks in our trading universe, though training is done on the full dataset."
   ]
  },
  {
   "cell_type": "markdown",
   "id": "292b5271",
   "metadata": {},
   "source": [
    "**Table of contents**<a id='toc0_'></a>    \n",
    "- [Cleaning and creation of a C25 dataset for trading](#toc1_)    \n",
    "- [Import packages](#toc2_)    \n",
    "- [C25](#toc3_)    \n",
    "  - [Import data](#toc3_1_)    \n",
    "  - [Constituents of the C25 index since 2016](#toc3_2_)    \n",
    "  - [Index price for trading months](#toc3_3_)    \n",
    "- [Copenhagen Benchmark Index](#toc4_)    \n",
    "  - [Constituents of the C25 index since 2016](#toc4_1_)    \n",
    "  - [Index price for trading months](#toc4_2_)    \n",
    "\n",
    "<!-- vscode-jupyter-toc-config\n",
    "\tnumbering=false\n",
    "\tanchor=true\n",
    "\tflat=false\n",
    "\tminLevel=1\n",
    "\tmaxLevel=6\n",
    "\t/vscode-jupyter-toc-config -->\n",
    "<!-- THIS CELL WILL BE REPLACED ON TOC UPDATE. DO NOT WRITE YOUR TEXT IN THIS CELL -->"
   ]
  },
  {
   "cell_type": "markdown",
   "metadata": {},
   "source": [
    "# <a id='toc2_'></a>[Import packages](#toc0_)"
   ]
  },
  {
   "cell_type": "code",
   "execution_count": 1,
   "id": "5f162cd4",
   "metadata": {},
   "outputs": [],
   "source": [
    "import pandas as pd\n",
    "import numpy as np"
   ]
  },
  {
   "cell_type": "code",
   "execution_count": 2,
   "id": "9d5c6141",
   "metadata": {},
   "outputs": [],
   "source": [
    "rf = pd.read_csv('../data/rf_rate.csv')\n",
    "rf['timestamp'] = pd.to_datetime(rf['timestamp'])\n",
    "rf['discount_m'] = (1+rf['discount'])**(1/12) - 1\n",
    "rf = rf[['timestamp', 'discount_m']]"
   ]
  },
  {
   "cell_type": "markdown",
   "id": "4137e712",
   "metadata": {},
   "source": [
    "# <a id='toc3_'></a>[C25](#toc0_)"
   ]
  },
  {
   "cell_type": "markdown",
   "metadata": {},
   "source": [
    "## <a id='toc3_1_'></a>[Import data](#toc0_)"
   ]
  },
  {
   "cell_type": "code",
   "execution_count": 3,
   "id": "355561e0",
   "metadata": {},
   "outputs": [],
   "source": [
    "# set paths to data\n",
    "path = '../rawdata/omxc25.xlsx'\n",
    "constituents = pd.read_excel(path, sheet_name='leaverjoiner')\n",
    "path = '../rawdata/omxc25.xlsx'\n",
    "price = pd.read_excel(path, sheet_name='pricehistory')"
   ]
  },
  {
   "cell_type": "markdown",
   "metadata": {},
   "source": [
    "## <a id='toc3_2_'></a>[Constituents of the C25 index since 2016](#toc0_)"
   ]
  },
  {
   "cell_type": "code",
   "execution_count": 4,
   "id": "262e215e",
   "metadata": {},
   "outputs": [],
   "source": [
    "constituents.columns = constituents.iloc[2]\n",
    "constituents = constituents.iloc[3:]\n",
    "constituents.reset_index(drop=True, inplace=True)\n",
    "constituents.rename(columns={'2':None,'Status':'status', 'Issuer': 'name', 'Code': 'ticker', 'Date': 'timestamp'}, inplace=True)\n",
    "constituents['timestamp'] = pd.to_datetime(constituents['timestamp'], format='%Y-%m-%d')\n",
    "constituents.rename_axis(columns=None, inplace=True)\n",
    "constituents.rename_axis(columns=None, inplace=True)\n",
    "# split the 'ticker' column by ^\n",
    "constituents['ticker'] = constituents['ticker'].str.split('^').str[0]\n",
    "# remove trailing whitespace from 'ticker'\n",
    "constituents['ticker'] = constituents['ticker'].str.strip()\n",
    "\n",
    "min_date = constituents['timestamp'].min()\n",
    "max_date = pd.Timestamp.today()\n",
    "\n",
    "# create a date range from min_date to max_date\n",
    "date_range = pd.date_range(start=min_date, end=max_date, freq='ME')\n",
    "\n",
    "constituents['timestamp'] = np.where(\n",
    "    constituents['status'] == 'Joiner', constituents['timestamp'] + pd.offsets.MonthEnd(0),\n",
    "    constituents['timestamp'] - pd.offsets.MonthEnd(1))\n",
    "\n",
    "# manual adjust for HLUNa.CO and HLUNb.CO as the split only existed for 10 days in the index\n",
    "constituents['timestamp'] = np.where(((constituents['status'] == 'Joiner') & (constituents['ticker'] == 'HLUNb.CO')) |\n",
    "                                      ((constituents['status'] == 'Joiner') & (constituents['ticker'] == 'HLUNa.CO')), \n",
    "                                     constituents['timestamp'] - pd.offsets.MonthEnd(1), constituents['timestamp'])\n",
    "\n",
    "# dropping HLUNa.CO and HLUNb.CO as they are not in the index anymore\n",
    "constituents = constituents[~constituents['ticker'].isin(['HLUNa.CO', 'HLUNb.CO'])]\n"
   ]
  },
  {
   "cell_type": "code",
   "execution_count": 5,
   "id": "785e2091",
   "metadata": {},
   "outputs": [],
   "source": [
    "constituents = constituents.sort_values(['ticker', 'timestamp', 'status'])\n",
    "\n",
    "# joiner/leaver events into live intervals\n",
    "\n",
    "as_of = pd.Timestamp.today().floor('D') # last day\n",
    "\n",
    "records = []\n",
    "for ticker, g in constituents.groupby('ticker', sort=False):\n",
    "    g = g.sort_values('timestamp')\n",
    "    start = None\n",
    "    name  = None\n",
    "    for _, r in g.iterrows():\n",
    "        if r['status'] == 'Joiner':\n",
    "            start = r['timestamp']\n",
    "            name  = r['name']\n",
    "        elif r['status'] == 'Leaver' and start is not None:\n",
    "            records.append(\n",
    "                dict(ticker=ticker, name=name, start=start, end=r['timestamp'])\n",
    "            )\n",
    "            start = None\n",
    "            name  = None\n",
    "    # still in the index (no later Leaver)\n",
    "    if start is not None:\n",
    "        records.append(\n",
    "            dict(ticker=ticker, name=name, start=start, end=as_of)\n",
    "        )\n",
    "\n",
    "intervals = pd.DataFrame(records)\n",
    "\n",
    "# explode each interval to one row per month-end\n",
    "rows = []\n",
    "for _, r in intervals.iterrows():\n",
    "    months = pd.date_range(r['start'], r['end'], freq='ME')\n",
    "    rows.extend(\n",
    "        {'timestamp': d, 'ticker': r['ticker'], 'name': r['name']}\n",
    "        for d in months\n",
    "    )\n",
    "\n",
    "constit_rolling = (\n",
    "    pd.DataFrame(rows)\n",
    "      .sort_values(['timestamp', 'ticker'])\n",
    "      .reset_index(drop=True)\n",
    ")\n",
    "\n",
    "# constit_rolling = constit_rolling[constit_rolling['timestamp'] >= '2020-12-31']\n",
    "# constit_rolling = constit_rolling[constit_rolling['timestamp'] < '2025-01-31']\n",
    "# constit_rolling.reset_index(drop=True, inplace=True)\n",
    "\n",
    "# save the rolling constituents to a csv file\n",
    "constit_rolling.to_csv('../data/omxc25_constit.csv', index=False)\n",
    "c25 = constit_rolling.copy(deep=True)"
   ]
  },
  {
   "cell_type": "markdown",
   "metadata": {},
   "source": [
    "## <a id='toc3_3_'></a>[Index price for trading months](#toc0_)"
   ]
  },
  {
   "cell_type": "code",
   "execution_count": 6,
   "id": "69aca4d1",
   "metadata": {},
   "outputs": [],
   "source": [
    "# index price\n",
    "price.columns = price.iloc[27]\n",
    "price = price.iloc[28:]\n",
    "price.rename(columns={'27':None, 'Exchange Date': 'timestamp', 'Close': 'close'}, inplace=True)\n",
    "price['timestamp'] = pd.to_datetime(price['timestamp'], format='%Y-%m-%d')\n",
    "price = price[['timestamp', 'close']]\n",
    "price.rename_axis(columns=None, inplace=True)\n",
    "price.sort_values(by='timestamp', inplace=True)\n",
    "price.reset_index(drop=True, inplace=True)\n",
    "\n",
    "initial_price = price.iloc[0]['close']\n",
    "\n",
    "# get month end prices\n",
    "price = (price\n",
    "         .set_index('timestamp')\n",
    "         .resample('ME')\n",
    "         .last()\n",
    "         .reset_index())\n",
    "\n",
    "price.loc[-1] = [pd.Timestamp('2021-01-01'), initial_price]\n",
    "price = price.sort_index().reset_index(drop=True)\n",
    "price['close'] = pd.to_numeric(price['close'], errors='raise')\n",
    "price['return'] = price['close'].pct_change()\n",
    "price = price.merge(rf, on='timestamp', how='left')\n",
    "price['discount_m'] = price['discount_m'].bfill()\n",
    "price['return'] = price['return'] - price['discount_m']\n",
    "price.drop(columns='discount_m', inplace=True)\n",
    "price['cumulative'] = (1 + price['return']).cumprod() * 100\n",
    "price.loc[0, 'cumulative'] = 100.0  # set the first value to 100\n",
    "\n",
    "# save to csv\n",
    "price.to_csv('../data/omxc25_price.csv', index=False)"
   ]
  },
  {
   "cell_type": "markdown",
   "metadata": {},
   "source": [
    "# <a id='toc4_'></a>[Copenhagen Benchmark Index](#toc0_)\n",
    "The OMX Copenhagen Benchmark Index consists of the 50 to 80 largest and most traded stocks, representing the majority of sectors (though currently only 41 stocks are included).\n"
   ]
  },
  {
   "cell_type": "code",
   "execution_count": 7,
   "id": "c107e0c0",
   "metadata": {},
   "outputs": [],
   "source": [
    "# set paths to data\n",
    "path = '../rawdata/omxcb.xlsx'\n",
    "\n",
    "constituents = pd.read_excel(path, sheet_name='leaverjoiner')\n",
    "price = pd.read_excel(path, sheet_name='pricehistory')"
   ]
  },
  {
   "cell_type": "markdown",
   "metadata": {},
   "source": [
    "## <a id='toc4_1_'></a>[Constituents of the C25 index since 2016](#toc0_)"
   ]
  },
  {
   "cell_type": "code",
   "execution_count": 8,
   "id": "cb062599",
   "metadata": {},
   "outputs": [],
   "source": [
    "constituents = pd.read_excel(path, sheet_name='leaverjoiner')\n",
    "constituents.columns = constituents.iloc[2]\n",
    "constituents = constituents.iloc[3:]\n",
    "constituents.reset_index(drop=True, inplace=True)\n",
    "constituents.rename(columns={'2':None,'Status':'status', 'Issuer': 'name', 'Code': 'ticker', 'Date': 'timestamp'}, inplace=True)\n",
    "constituents['timestamp'] = pd.to_datetime(constituents['timestamp'], format='%Y-%m-%d')\n",
    "constituents.rename_axis(columns=None, inplace=True)\n",
    "constituents.rename_axis(columns=None, inplace=True)\n",
    "# split the 'ticker' column by ^\n",
    "constituents['ticker'] = constituents['ticker'].str.split('^').str[0]\n",
    "# remove trailing whitespace from 'ticker'\n",
    "constituents['ticker'] = constituents['ticker'].str.strip()\n",
    "\n",
    "min_date = constituents['timestamp'].min()\n",
    "max_date = pd.Timestamp.today()\n",
    "\n",
    "# create a date range from min_date to max_date\n",
    "date_range = pd.date_range(start=min_date, end=max_date, freq='ME')\n",
    "\n",
    "constituents['timestamp'] = np.where(\n",
    "    constituents['status'] == 'Joiner', constituents['timestamp'] + pd.offsets.MonthEnd(0),\n",
    "    constituents['timestamp'] - pd.offsets.MonthEnd(1))\n",
    "\n",
    "# manual adjust for HLUNa.CO and HLUNb.CO as the split only existed for 10 days in the index\n",
    "constituents['timestamp'] = np.where(((constituents['status'] == 'Joiner') & (constituents['ticker'] == 'HLUNb.CO')) |\n",
    "                                      ((constituents['status'] == 'Joiner') & (constituents['ticker'] == 'HLUNa.CO')), \n",
    "                                     constituents['timestamp'] - pd.offsets.MonthEnd(1), constituents['timestamp'])"
   ]
  },
  {
   "cell_type": "code",
   "execution_count": 9,
   "id": "f08f5c2b",
   "metadata": {},
   "outputs": [],
   "source": [
    "constituents = constituents.sort_values(['ticker', 'timestamp', 'status'])\n",
    "\n",
    "# joiner/leaver events into live intervals\n",
    "\n",
    "as_of = pd.Timestamp.today().floor('D') # last day\n",
    "\n",
    "records = []\n",
    "for ticker, g in constituents.groupby('ticker', sort=False):\n",
    "    g = g.sort_values('timestamp')\n",
    "    start = None\n",
    "    name  = None\n",
    "    for _, r in g.iterrows():\n",
    "        if r['status'] == 'Joiner':\n",
    "            start = r['timestamp']\n",
    "            name  = r['name']\n",
    "        elif r['status'] == 'Leaver' and start is not None:\n",
    "            records.append(\n",
    "                dict(ticker=ticker, name=name, start=start, end=r['timestamp'])\n",
    "            )\n",
    "            start = None\n",
    "            name  = None\n",
    "    # still in the index (no later Leaver)\n",
    "    if start is not None:\n",
    "        records.append(\n",
    "            dict(ticker=ticker, name=name, start=start, end=as_of)\n",
    "        )\n",
    "\n",
    "intervals = pd.DataFrame(records)\n",
    "\n",
    "# explode each interval to one row per month-end\n",
    "rows = []\n",
    "for _, r in intervals.iterrows():\n",
    "    months = pd.date_range(r['start'], r['end'], freq='ME')\n",
    "    rows.extend(\n",
    "        {'timestamp': d, 'ticker': r['ticker'], 'name': r['name']}\n",
    "        for d in months\n",
    "    )\n",
    "\n",
    "constit_rolling = (\n",
    "    pd.DataFrame(rows)\n",
    "      .sort_values(['timestamp', 'ticker'])\n",
    "      .reset_index(drop=True)\n",
    ")\n",
    "\n",
    "# ensure atleast the c25 constituents are included\n",
    "constit_rolling = constit_rolling.merge(c25[['timestamp', 'name', 'ticker']], on=['timestamp', 'name', 'ticker'], how='outer')\n",
    "\n",
    "# save the rolling constituents to a csv file\n",
    "constit_rolling.to_csv('../data/omxcb_constit.csv', index=False)"
   ]
  },
  {
   "cell_type": "markdown",
   "metadata": {},
   "source": [
    "## <a id='toc4_2_'></a>[Index price for trading months](#toc0_)"
   ]
  },
  {
   "cell_type": "code",
   "execution_count": 10,
   "id": "d8f64d8f",
   "metadata": {},
   "outputs": [],
   "source": [
    "# index price\n",
    "price.columns = price.iloc[27]\n",
    "price = price.iloc[28:]\n",
    "price.rename(columns={'27':None, 'Exchange Date': 'timestamp', 'Close': 'close'}, inplace=True)\n",
    "price['timestamp'] = pd.to_datetime(price['timestamp'], format='%Y-%m-%d')\n",
    "price = price[['timestamp', 'close']]\n",
    "price.rename_axis(columns=None, inplace=True)\n",
    "price.sort_values(by='timestamp', inplace=True)\n",
    "price.reset_index(drop=True, inplace=True)\n",
    "\n",
    "initial_price = price.iloc[0]['close']\n",
    "\n",
    "# get month end prices\n",
    "price = (price\n",
    "         .set_index('timestamp')\n",
    "         .resample('ME')\n",
    "         .last()\n",
    "         .reset_index())\n",
    "\n",
    "price.loc[-1] = [pd.Timestamp('2021-01-01'), initial_price]\n",
    "price = price.sort_index().reset_index(drop=True)\n",
    "price['close'] = pd.to_numeric(price['close'], errors='raise')\n",
    "price['return'] = price['close'].pct_change()\n",
    "price = price.merge(rf, on='timestamp', how='left')\n",
    "price['discount_m'] = price['discount_m'].bfill()\n",
    "price['return'] = price['return'] - price['discount_m']\n",
    "price.drop(columns='discount_m', inplace=True)\n",
    "price['cumulative'] = (1 + price['return']).cumprod() * 100\n",
    "price.loc[0, 'cumulative'] = 100.0  # set the first value to 100\n",
    "\n",
    "# save to csv\n",
    "price.to_csv('../data/omxcb_price.csv', index=False)"
   ]
  }
 ],
 "metadata": {
  "kernelspec": {
   "display_name": "base",
   "language": "python",
   "name": "python3"
  },
  "language_info": {
   "codemirror_mode": {
    "name": "ipython",
    "version": 3
   },
   "file_extension": ".py",
   "mimetype": "text/x-python",
   "name": "python",
   "nbconvert_exporter": "python",
   "pygments_lexer": "ipython3",
   "version": "3.11.8"
  }
 },
 "nbformat": 4,
 "nbformat_minor": 5
}
