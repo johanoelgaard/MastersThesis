{
 "cells": [
  {
   "cell_type": "code",
   "execution_count": 1,
   "id": "f426ffa7",
   "metadata": {},
   "outputs": [],
   "source": [
    "import pandas as pd\n",
    "import numpy as np\n",
    "from functions import *\n",
    "import re\n",
    "\n",
    "%load_ext autoreload\n",
    "%autoreload 2"
   ]
  },
  {
   "cell_type": "code",
   "execution_count": 2,
   "id": "9f4ad277",
   "metadata": {},
   "outputs": [],
   "source": [
    "# set paths to data\n",
    "path = '/Users/johan/Library/CloudStorage/GoogleDrive-johan.oelgaard@gmail.com/My Drive/04 Økonomi/10 Thesis/Data'\n",
    "\n",
    "oxford = 'oxford_economics.xlsx'\n",
    "oxford_df = pd.read_excel(path + '/' + oxford)"
   ]
  },
  {
   "cell_type": "code",
   "execution_count": 3,
   "id": "92609f9b",
   "metadata": {},
   "outputs": [],
   "source": [
    "# industry data\n",
    "oxford = oxford_df.iloc[:, :-11]\n",
    "# extract the nace codes\n",
    "nace_cols = ['Indicator', 'Sector', 'Nace code']\n",
    "oxford[\"NACE\"] = oxford.apply(lambda row: extract_nace(row, nace_cols), axis=1)\n",
    "\n",
    "# remove commas from 'Sector' and make lower case\n",
    "oxford['Sector'] = oxford['Sector'].str.replace(',', '').str.lower()\n",
    "\n",
    "dk = oxford[oxford['Location'] == 'Denmark'].copy().reset_index(drop=True)\n",
    "eu = oxford[oxford['Location'] == 'Europe'].copy().reset_index(drop=True)\n",
    "world = oxford[oxford['Location'] == 'World'].copy().reset_index(drop=True)"
   ]
  },
  {
   "cell_type": "code",
   "execution_count": 4,
   "id": "7cb7b210",
   "metadata": {},
   "outputs": [],
   "source": [
    "# danish data\n",
    "# explode the NACE column\n",
    "dk = dk.explode('NACE')\n",
    "dk['NACE industry'] = dk['NACE'].str.split('.', expand=True)[0]\n",
    "# dk['NACE subindustry'] = dk['NACE'].str.split('.', expand=True)[1]\n",
    "dk['NACE'] = dk['NACE'].apply(pd.to_numeric, errors='coerce')\n",
    "\n",
    "# remove where 'Sector' is 'whole economy'\n",
    "whole_dk = dk[dk['Sector'] == 'whole economy'].copy().reset_index(drop=True)\n",
    "dk = dk[dk['Sector'] != 'whole economy'].copy().reset_index(drop=True)\n",
    "\n",
    "# drop columns\n",
    "dk.drop(columns=['Location', 'Sector', 'Nace code','NACE'], inplace=True)\n",
    "indicators = ['Production index', \n",
    "              'Gross output (sales)', \n",
    "              'Intermediate consumption', \n",
    "              'Investment', \n",
    "              'Value-added output']\n",
    "\n",
    "dk_filtered = dk[dk['Indicator'].isin(indicators)].copy()\n",
    "dk_filtered = dk_filtered.groupby(['NACE industry', 'Indicator']).mean(numeric_only=True).reset_index()\n",
    "\n",
    "# set the identifying columns as the index.\n",
    "dk_indexed = dk_filtered.set_index(['NACE industry', 'Indicator'])\n",
    "\n",
    "# .stack() to transform the quarter columns into a single column.\n",
    "dk_stacked = dk_indexed.stack().reset_index()\n",
    "\n",
    "# rename the resulting columns appropriately.\n",
    "dk_stacked.columns = ['NACE industry', 'Indicator', 'quarter', 'value']\n",
    "\n",
    "# Now pivot so that each indicator becomes its own column.\n",
    "dk_wide = dk_stacked.pivot_table(\n",
    "    index=['NACE industry', 'quarter'],\n",
    "    columns='Indicator',\n",
    "    values='value'\n",
    ").reset_index()\n",
    "dk_wide.columns.name = None\n",
    "\n",
    "# rename NACE industry to NACE\n",
    "dk_wide.rename(columns={'NACE industry': 'NACE'}, inplace=True)\n",
    "\n",
    "# change the quarter column to a datetime column NB END OF QUARTER dates\n",
    "dk_wide['quarter'] = dk_wide['quarter'].str.replace('Q1', '-01-01')\n",
    "dk_wide['quarter'] = dk_wide['quarter'].str.replace('Q2', '-04-01')\n",
    "dk_wide['quarter'] = dk_wide['quarter'].str.replace('Q3', '-07-01')\n",
    "dk_wide['quarter'] = dk_wide['quarter'].str.replace('Q4', '-10-01')\n",
    "dk_wide['quarter'] = pd.to_datetime(dk_wide['quarter'], format='%Y-%m-%d')\n",
    "dk_wide.rename(columns={'quarter': 'timestamp'}, inplace=True)\n",
    "\n",
    "\n",
    "\n",
    "dk_wide = dk_wide.rename(columns={\n",
    "    'Production index': 'prodind',\n",
    "    'Gross output (sales)': 'grossoutput',\n",
    "    'Intermediate consumption': 'intercons',\n",
    "    'Investment': 'invest',\n",
    "    'Value-added output': 'valaddoutput'\n",
    "})\n",
    "# display(dk_wide)\n",
    "\n",
    "# save the data\n",
    "dk_wide.to_csv('data/dk_industry.csv', index=False)"
   ]
  }
 ],
 "metadata": {
  "kernelspec": {
   "display_name": "base",
   "language": "python",
   "name": "python3"
  },
  "language_info": {
   "codemirror_mode": {
    "name": "ipython",
    "version": 3
   },
   "file_extension": ".py",
   "mimetype": "text/x-python",
   "name": "python",
   "nbconvert_exporter": "python",
   "pygments_lexer": "ipython3",
   "version": "3.11.8"
  }
 },
 "nbformat": 4,
 "nbformat_minor": 5
}
