{
 "cells": [
  {
   "cell_type": "code",
   "execution_count": 7,
   "metadata": {},
   "outputs": [
    {
     "name": "stdout",
     "output_type": "stream",
     "text": [
      "Table: stock_characteristics_monthly, Columns: 112, Rows: 3264685\n"
     ]
    }
   ],
   "source": [
    "import sqlite3\n",
    "\n",
    "# Define the database path\n",
    "db_path = \"/Users/johan/Documents/04 Uni/10 Thesis/tidy_finance/tidy_finance_ML.sqlite\"\n",
    "\n",
    "# Connect to the database\n",
    "conn = sqlite3.connect(db_path)\n",
    "cursor = conn.cursor()\n",
    "\n",
    "# Get a list of tables\n",
    "cursor.execute(\"SELECT name FROM sqlite_master WHERE type='table';\")\n",
    "tables = cursor.fetchall()\n",
    "\n",
    "for table in tables:\n",
    "    table_name = table[0]\n",
    "    \n",
    "    # Get the number of columns\n",
    "    cursor.execute(f\"PRAGMA table_info({table_name});\")\n",
    "    num_columns = len(cursor.fetchall())\n",
    "\n",
    "    # Get the number of rows\n",
    "    cursor.execute(f\"SELECT COUNT(*) FROM {table_name};\")\n",
    "    num_rows = cursor.fetchone()[0]\n",
    "\n",
    "    print(f\"Table: {table_name}, Columns: {num_columns}, Rows: {num_rows}\")\n",
    "\n",
    "# Close the connection\n",
    "conn.close()\n"
   ]
  }
 ],
 "metadata": {
  "kernelspec": {
   "display_name": "base",
   "language": "python",
   "name": "python3"
  },
  "language_info": {
   "codemirror_mode": {
    "name": "ipython",
    "version": 3
   },
   "file_extension": ".py",
   "mimetype": "text/x-python",
   "name": "python",
   "nbconvert_exporter": "python",
   "pygments_lexer": "ipython3",
   "version": "3.11.8"
  }
 },
 "nbformat": 4,
 "nbformat_minor": 2
}
