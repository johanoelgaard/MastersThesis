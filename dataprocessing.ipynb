{
 "cells": [
  {
   "cell_type": "code",
   "execution_count": null,
   "id": "ab2234b1",
   "metadata": {},
   "outputs": [
    {
     "name": "stdout",
     "output_type": "stream",
     "text": [
      "The autoreload extension is already loaded. To reload it, use:\n",
      "  %reload_ext autoreload\n"
     ]
    }
   ],
   "source": [
    "import pandas as pd\n",
    "import numpy as np\n",
    "from functions import *\n",
    "import matplotlib.pyplot as plt\n",
    "\n",
    "%load_ext autoreload\n",
    "%autoreload 2"
   ]
  },
  {
   "cell_type": "markdown",
   "id": "91e75ef2",
   "metadata": {},
   "source": [
    "**Table of contents**<a id='toc0_'></a>    \n",
    "- [Combining data sources](#toc1_)    \n",
    "    - [Add industry data for DK](#toc1_1_1_)    \n",
    "    - [Add financial data](#toc1_1_2_)    \n",
    "    - [Add beta](#toc1_1_3_)    \n",
    "  - [Add risk-free rate](#toc1_2_)    \n",
    "- [Create variables](#toc2_)    \n",
    "\n",
    "<!-- vscode-jupyter-toc-config\n",
    "\tnumbering=false\n",
    "\tanchor=true\n",
    "\tflat=false\n",
    "\tminLevel=1\n",
    "\tmaxLevel=6\n",
    "\t/vscode-jupyter-toc-config -->\n",
    "<!-- THIS CELL WILL BE REPLACED ON TOC UPDATE. DO NOT WRITE YOUR TEXT IN THIS CELL -->"
   ]
  },
  {
   "cell_type": "markdown",
   "id": "0e1a83dd",
   "metadata": {},
   "source": [
    "# <a id='toc1_'></a>[Combining data sources](#toc0_)"
   ]
  },
  {
   "cell_type": "code",
   "execution_count": 42,
   "id": "e837b4f3",
   "metadata": {},
   "outputs": [],
   "source": [
    "trade = pd.read_csv('data/trade.csv', header=[0,1], index_col=0)\n",
    "stocks = pd.read_csv('data/stocks.csv')\n",
    "dk_industry = pd.read_csv('data/dk_industry.csv')\n",
    "financials = pd.read_csv('data/financials.csv')\n",
    "beta = pd.read_csv('data/beta.csv')\n",
    "rf_rate = pd.read_csv('data/rf_rate.csv')"
   ]
  },
  {
   "cell_type": "code",
   "execution_count": 43,
   "id": "3e88d81e",
   "metadata": {},
   "outputs": [],
   "source": [
    "# offsets\n",
    "quarterly_offset = 1 # quarterly data is 2 months behind end of quarter\n",
    "annual_offset = 6 # annual data is 6 months behind publication"
   ]
  },
  {
   "cell_type": "code",
   "execution_count": 44,
   "id": "c20f8a2e",
   "metadata": {},
   "outputs": [
    {
     "name": "stderr",
     "output_type": "stream",
     "text": [
      "/var/folders/yw/jsw5n53s1cb1s2q6tt0msrm00000gn/T/ipykernel_65389/654452550.py:3: FutureWarning: The previous implementation of stack is deprecated and will be removed in a future version of pandas. See the What's New notes for pandas 2.1.0 for details. Specify future_stack=True to adopt the new implementation and silence this warning.\n",
      "  trade = trade.stack(level=0).reset_index()\n"
     ]
    }
   ],
   "source": [
    "# convert the index to datetime (the index holds the dates)\n",
    "trade.index = pd.to_datetime(trade.index)\n",
    "trade = trade.stack(level=0).reset_index()\n",
    "\n",
    "\n",
    "# rename columns to have a proper\n",
    "trade.rename(columns={'level_1': 'ticker'}, inplace=True)\n",
    "\n",
    "# Data Cleaning and Sorting\n",
    "trade.drop_duplicates(inplace=True)\n",
    "trade.dropna(inplace=True) # happens if there was one data point the first day of a given ticker but not the rest of the values (e.g. trade values but no ask or bid)\n",
    "trade.sort_values(['ticker', 'timestamp'], inplace=True)\n",
    "trade.reset_index(drop=True, inplace=True)\n"
   ]
  },
  {
   "cell_type": "code",
   "execution_count": 45,
   "id": "c8d08b4a",
   "metadata": {},
   "outputs": [],
   "source": [
    "df = pd.merge(trade, stocks[['ticker','shares','NACE']], how='left', on=['ticker'])\n",
    "# display(df)"
   ]
  },
  {
   "cell_type": "markdown",
   "id": "41841a07",
   "metadata": {},
   "source": [
    "\n",
    "### <a id='toc1_1_1_'></a>[Add industry data for DK](#toc0_)"
   ]
  },
  {
   "cell_type": "code",
   "execution_count": 46,
   "id": "a99b8fd1",
   "metadata": {},
   "outputs": [],
   "source": [
    "dk_industry['timestamp'] = pd.to_datetime(dk_industry['timestamp'])\n",
    "# join stocks and dk_industry on 'NACE industry' \n",
    "industry = stocks[['ticker','NACE']].merge(dk_industry, how='left', on='NACE')\n",
    "\n",
    "# adjust the timestamp to be 2 months behind\n",
    "industry['timestamp'] = industry['timestamp'] + pd.DateOffset(months=2+quarterly_offset)\n",
    "industry['timestamp'] = (\n",
    "    industry['timestamp']\n",
    "      .dt.to_period('M')\n",
    "      .dt.to_timestamp('M')\n",
    ")\n",
    "\n",
    "industry = industry.drop(columns=['NACE'])"
   ]
  },
  {
   "cell_type": "code",
   "execution_count": 47,
   "id": "d1a40918",
   "metadata": {},
   "outputs": [],
   "source": [
    "df = pd.merge(df, industry, how='left', on=['timestamp', 'ticker'])\n",
    "\n",
    "#ffil the industry values\n",
    "for col in industry.columns[2:]:\n",
    "    df[col] = df[col].groupby(df['ticker']).ffill()\n"
   ]
  },
  {
   "cell_type": "markdown",
   "id": "74fadcf1",
   "metadata": {},
   "source": [
    "### <a id='toc1_1_2_'></a>[Add financial data](#toc0_)"
   ]
  },
  {
   "cell_type": "code",
   "execution_count": 48,
   "id": "da67cc3a",
   "metadata": {},
   "outputs": [],
   "source": [
    "financials['timestamp'] = pd.to_datetime(financials['timestamp'])\n",
    "\n",
    "financials['timestamp'] = financials['timestamp'] + pd.DateOffset(months=annual_offset)\n",
    "financials['timestamp'] = (\n",
    "    financials['timestamp']\n",
    "      .dt.to_period('M')\n",
    "      .dt.to_timestamp('M')\n",
    ")\n",
    "\n",
    "# expand the dataset\n",
    "financials = (\n",
    "    financials\n",
    "        # sort data and find the next timestamp\n",
    "      .sort_values(['ticker','timestamp'])\n",
    "      .assign(\n",
    "        next_fye   = lambda df: df.groupby('ticker')['timestamp'].shift(-1),\n",
    "        plus_12m   = lambda df: df['timestamp'] + pd.DateOffset(months=12),\n",
    "        period_end = lambda df: pd.to_datetime(np.where(\n",
    "                          (df.next_fye - df.timestamp).abs()\n",
    "                            < \n",
    "                          (df.plus_12m   - df.timestamp).abs(),\n",
    "                          df.next_fye,\n",
    "                          df.plus_12m\n",
    "                        ))\n",
    "      )\n",
    "      # expand the data\n",
    "      .assign(timestamp = lambda df: df.apply(expand_monthly, axis=1))\n",
    "      .explode('timestamp')\n",
    "      .drop(columns=['next_fye','plus_12m','period_end'])\n",
    "      .reset_index(drop=True)\n",
    ")"
   ]
  },
  {
   "cell_type": "code",
   "execution_count": 49,
   "id": "1d792d1c",
   "metadata": {},
   "outputs": [],
   "source": [
    "# join df and financials\n",
    "df = pd.merge(df, financials, how='left', on=['timestamp', 'ticker'])\n",
    "\n",
    "# display(df)"
   ]
  },
  {
   "cell_type": "markdown",
   "id": "a2d78013",
   "metadata": {},
   "source": [
    "### <a id='toc1_1_3_'></a>[Add beta](#toc0_)"
   ]
  },
  {
   "cell_type": "code",
   "execution_count": 50,
   "id": "39c38a71",
   "metadata": {},
   "outputs": [],
   "source": [
    "beta['timestamp'] = pd.to_datetime(beta['timestamp'])\n",
    "\n",
    "# adjust to be last trading day of the month only and set to end of month\n",
    "monthly_beta = (\n",
    "    beta\n",
    "    .groupby(\n",
    "        ['ticker', pd.Grouper(key='timestamp', freq='ME')],\n",
    "         as_index=False\n",
    "    )['beta']\n",
    "    .last()\n",
    ")"
   ]
  },
  {
   "cell_type": "code",
   "execution_count": 51,
   "id": "bcfe8862",
   "metadata": {},
   "outputs": [],
   "source": [
    "# join df and beta\n",
    "df = pd.merge(df, monthly_beta, how='left', on=['timestamp', 'ticker'])"
   ]
  },
  {
   "cell_type": "markdown",
   "id": "b6a8cbf9",
   "metadata": {},
   "source": [
    "## <a id='toc1_2_'></a>[Add risk-free rate](#toc0_)"
   ]
  },
  {
   "cell_type": "code",
   "execution_count": 52,
   "id": "478da9b8",
   "metadata": {},
   "outputs": [],
   "source": [
    "rf_rate['timestamp'] = pd.to_datetime(rf_rate['timestamp'])\n",
    "# set date as index and resample by month, taking the mean of diskonto & folio\n",
    "monthly_avg = (\n",
    "    rf_rate\n",
    "    .set_index('timestamp')\n",
    "    .resample('ME')[['diskonto', 'folio']]\n",
    "    .mean()\n",
    "    .rename_axis('timestamp')\n",
    "    .reset_index()\n",
    ")\n",
    "# convert to monthly rates\n",
    "monthly_avg['diskonto'] = monthly_avg['diskonto'].apply(lambda x: (1 + x) ** (1/12) - 1)\n",
    "monthly_avg['folio'] = monthly_avg['folio'].apply(lambda x: (1 + x) ** (1/12) - 1)\n",
    "monthly_avg\n",
    "# drop diskonto and rename folio to risk-free\n",
    "monthly_avg.drop(columns=['diskonto'], inplace=True)\n",
    "monthly_avg.rename(columns={'folio': 'risk_free'}, inplace=True)"
   ]
  },
  {
   "cell_type": "code",
   "execution_count": 53,
   "id": "d1b2693e",
   "metadata": {},
   "outputs": [],
   "source": [
    "# join df and beta\n",
    "df = pd.merge(df, monthly_avg, how='left', on=['timestamp'])\n",
    "\n",
    "# display(df)"
   ]
  },
  {
   "cell_type": "markdown",
   "id": "e312089a",
   "metadata": {},
   "source": [
    "# <a id='toc2_'></a>[Create variables](#toc0_)"
   ]
  },
  {
   "cell_type": "code",
   "execution_count": null,
   "id": "9e237e02",
   "metadata": {},
   "outputs": [
    {
     "name": "stdout",
     "output_type": "stream",
     "text": [
      "[2061]\n",
      "[256]\n"
     ]
    }
   ],
   "source": [
    "df['target'] = df.groupby('ticker')['adjclose'].transform(lambda x: x.pct_change(periods=1))\n",
    "\n",
    "# subtract the risk-free rate from the target\n",
    "df['target'] = df['target'] - df['risk_free']\n",
    "df['target'] = df['target'].shift(-1) # shift the target by 1 month\n",
    "\n",
    "# momentum\n",
    "momentum_periods = {'mom1m': 1, 'mom3m': 3, 'mom6m': 6, 'mom12m': 12}\n",
    "\n",
    "# compute percentage change over each period for each ticker separately.\n",
    "for feature_name, period in momentum_periods.items():\n",
    "    df[feature_name] = df.groupby('ticker')['adjclose'].transform(lambda x: x.pct_change(periods=period))\n",
    "\n",
    "# bid-ask spread in percentage\n",
    "df['baspread'] = (df['ask']-df['bid'])/df['ask']\n",
    "\n",
    "# drop if mom12m or target is nan (first 12 months and last month for each ticker)\n",
    "df.dropna(subset=['mom12m','target'], inplace=True)"
   ]
  },
  {
   "cell_type": "code",
   "execution_count": 15,
   "id": "5a6b9362",
   "metadata": {},
   "outputs": [],
   "source": [
    "# drop if any nan\n",
    "df.dropna(inplace=True)\n",
    "df.reset_index(drop=True, inplace=True)\n",
    "\n",
    "# save the data\n",
    "df.to_csv('data/data.csv', index=False)"
   ]
  }
 ],
 "metadata": {
  "kernelspec": {
   "display_name": "base",
   "language": "python",
   "name": "python3"
  },
  "language_info": {
   "codemirror_mode": {
    "name": "ipython",
    "version": 3
   },
   "file_extension": ".py",
   "mimetype": "text/x-python",
   "name": "python",
   "nbconvert_exporter": "python",
   "pygments_lexer": "ipython3",
   "version": "3.11.8"
  }
 },
 "nbformat": 4,
 "nbformat_minor": 5
}
