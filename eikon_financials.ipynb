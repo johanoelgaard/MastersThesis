{
 "cells": [
  {
   "cell_type": "code",
   "execution_count": 1,
   "id": "d075bd2f",
   "metadata": {},
   "outputs": [],
   "source": [
    "import pandas as pd\n",
    "import numpy as np\n",
    "from functions import *"
   ]
  },
  {
   "cell_type": "code",
   "execution_count": 2,
   "id": "e35febf2",
   "metadata": {},
   "outputs": [],
   "source": [
    "# set paths to data\n",
    "path = '/Users/johan/Library/CloudStorage/GoogleDrive-johan.oelgaard@gmail.com/My Drive/04 Økonomi/10 Thesis/Data'\n",
    "\n",
    "# read monthly market data from eikon\n",
    "finacials = 'eikon_financials.xlsx'\n",
    "eikon_dfs = pd.read_excel(path + '/' + finacials, sheet_name=None)\n",
    "eikon_keys = eikon_dfs.keys()\n",
    "# print(eikon_keys)"
   ]
  },
  {
   "cell_type": "code",
   "execution_count": 3,
   "id": "8deda6d0",
   "metadata": {},
   "outputs": [],
   "source": [
    "fin_df = eikon_dfs['financials'].iloc[:, 1:]\n",
    "\n",
    "# set name for first two columns\n",
    "fin_df.columns = ['timestamp', 'ticker'] + list(fin_df.columns[2:])\n",
    "\n",
    "# set everything except the first two columns to numeric\n",
    "for col in fin_df.columns[2:]:\n",
    "    fin_df[col] = pd.to_numeric(fin_df[col], errors='coerce')\n",
    "\n",
    "fin_df['fy_end'] = fin_df['timestamp'] + pd.DateOffset(years=1)\n",
    "\n",
    "# set index to timestamp\n",
    "fin_df.set_index('timestamp', inplace=True)\n",
    "\n",
    "\n",
    "# calculate revenue\n",
    "fin_df['revenue'] = (fin_df['Revenue']\n",
    "                     .fillna(fin_df['Total Revenue'])\n",
    "                     .fillna(fin_df['Bank Total Revenue']))\n",
    "# set R&D to 0 if NaN\n",
    "fin_df['rnd'] = fin_df['Research And Development'].fillna(0)\n",
    "\n",
    "# calculate cash\n",
    "fin_df['cash'] = (fin_df['Cash']\n",
    "                  .fillna(fin_df['Cash and Equivalents'])\n",
    "                  .fillna(fin_df['Cash and Short Term Investments'])\n",
    "                  .fillna(fin_df['Cash & Due From Banks']))\n",
    "\n",
    "fin_df['grossprofit'] = (fin_df['Gross Profit']\n",
    "                         .fillna(fin_df['revenue']))\n",
    "\n",
    "\n",
    "fin_df['opinc'] = (fin_df['Operating Income']\n",
    "                   .fillna(fin_df['grossprofit']-fin_df['Total Operating Expense'])\n",
    "                   .fillna(fin_df['Net Income Before Taxes']))\n",
    "\n",
    "fin_df['cashflow'] = (fin_df['Cash Flow']\n",
    "             .fillna(fin_df['Cash from Operating Activities, Cumulative']))\n",
    "\n",
    "\n",
    "fin_df['debt'] = (fin_df['Total Debt']\n",
    "                  .fillna(fin_df['Total Liabilities']))\n",
    "\n",
    "fin_df['currentassets'] = fin_df['Total Current Assets'].fillna(0)\n",
    "\n",
    "# drop columns\n",
    "fin_df.drop(columns=['Revenue', 'Total Revenue', 'Bank Total Revenue',\n",
    "                    'Research And Development', \n",
    "                    'Cash','Cash and Equivalents','Cash and Short Term Investments', 'Cash & Due From Banks',\n",
    "                    'Gross Profit',\n",
    "                    'Operating Income', 'Total Operating Expense',\n",
    "                    'Cash Flow', 'Cash from Operating Activities, Cumulative',\n",
    "                    'Total Debt', 'Total Liabilities',\n",
    "                    'Total Current Assets',\n",
    "                    ],inplace=True)\n",
    "\n",
    "fin_df = fin_df.rename(columns={'Net Income Before Taxes': 'netinc','Total Assets, Reported': 'assets','Cash Flow':'cashflow'})\n",
    "\n",
    "# display(fin_df.head(60))\n",
    "\n",
    "# save to csv\n",
    "fin_df.to_csv('data/financials.csv', index=False)"
   ]
  },
  {
   "cell_type": "code",
   "execution_count": null,
   "id": "acdbc59f",
   "metadata": {},
   "outputs": [],
   "source": []
  }
 ],
 "metadata": {
  "kernelspec": {
   "display_name": "base",
   "language": "python",
   "name": "python3"
  },
  "language_info": {
   "codemirror_mode": {
    "name": "ipython",
    "version": 3
   },
   "file_extension": ".py",
   "mimetype": "text/x-python",
   "name": "python",
   "nbconvert_exporter": "python",
   "pygments_lexer": "ipython3",
   "version": "3.11.8"
  }
 },
 "nbformat": 4,
 "nbformat_minor": 5
}
